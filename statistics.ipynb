{
 "cells": [
  {
   "cell_type": "code",
   "execution_count": 1,
   "id": "b90839aa",
   "metadata": {},
   "outputs": [],
   "source": [
    "# load important modules\n",
    "import random\n",
    "import pandas as pd\n",
    "import matplotlib.pyplot as plt\n",
    "import numpy as np\n",
    "import seaborn as sns\n",
    "\n",
    "from sklearn.feature_selection import VarianceThreshold, SelectKBest, chi2, f_classif\n",
    "from sklearn.model_selection import train_test_split\n",
    "\n",
    "%matplotlib inline\n",
    "\n",
    "# ignore warnings\n",
    "import warnings\n",
    "warnings.filterwarnings('ignore')"
   ]
  },
  {
   "cell_type": "code",
   "execution_count": 2,
   "id": "07dab463",
   "metadata": {},
   "outputs": [
    {
     "name": "stdout",
     "output_type": "stream",
     "text": [
      "Features:  84\n",
      "\"Misses\" in:\n",
      "<class 'pandas.core.frame.DataFrame'>\n",
      "RangeIndex: 250 entries, 0 to 249\n",
      "Data columns (total 2 columns):\n",
      " #   Column  Non-Null Count  Dtype  \n",
      "---  ------  --------------  -----  \n",
      " 0   Marcha  248 non-null    float64\n",
      " 1   Hb      249 non-null    float64\n",
      "dtypes: float64(2)\n",
      "memory usage: 4.0 KB\n",
      "None\n",
      "Indexes of rows with misses: Int64Index([24, 191, 210], dtype='int64')\n",
      "Columns:\n",
      " Index(['Folio', 'Genero', 'Edad', 'Escolaridad', 'Letrado', 'EdoCivil',\n",
      "       'Cuidador', 'Religiòn', 'Residencia', 'Ocupacion', 'Economìa',\n",
      "       'Manutencion', 'Visiòn', 'CorreccionVisual', 'Audiciòn',\n",
      "       'CorreccionAuditiva', 'HAS', 'DMII', 'OA', 'OSTEOP', 'GASTRITIS',\n",
      "       'DEPRESION', 'CARDIOOLOGIA', 'TNCM', 'HIPOTIROIDISMO', 'HIPERTENSION',\n",
      "       'CANCER', 'EPOC', 'DISLIPIDEMIA', 'IRC', 'InsfHepatica', 'MED1', 'MED2',\n",
      "       'MED3', 'MED4', 'MED5', 'MED6', 'MED7', 'MED8', 'MED9', 'MED10',\n",
      "       'Tabaquismo', 'Alcoholismo', 'Drogas', 'ExpBiomasa', 'MMSE', 'MMSEx',\n",
      "       'MMSEcodif', 'GDS', 'Depresion', 'Barthel', 'BarthelX', 'BarthelAR',\n",
      "       'Caìdas', 'NùmeroDeCaìdas', 'Ùlceras', 'Norton', 'NortonX',\n",
      "       'NortonAlto', 'Lawton', 'LawtonX', 'LawtonAR', 'MNA', 'MNAx', 'MNAAR',\n",
      "       'Charlson', 'MM', 'IMM', 'AnguloF', 'FuerzaPrension', 'Pantorrilla',\n",
      "       'Marcha', 'Sarcopenia', 'Demencia', 'Congiciòn', 'EVC', 'Infecciòn',\n",
      "       'Dolor', 'Hb', 'Urea', 'Creatinina', 'Albumina', 'Glucosa', 'Sodio'],\n",
      "      dtype='object')\n"
     ]
    }
   ],
   "source": [
    "# load dataset\n",
    "data = pd.DataFrame(pd.read_excel('data/sarcopenia.xlsx'))\n",
    "# Genero 1: male, 2: female => change to 0: male, 1: female\n",
    "# SI: 1, NO: 2 => change to NO: 0, YES: 1\n",
    "data['Genero'] = data['Genero'].replace({1: 0, 2: 1})\n",
    "\n",
    "# overview of data\n",
    "print(\"Features: \", len(data.columns))\n",
    "print(\"\\\"Misses\\\" in:\")\n",
    "print(data.loc[:,data.isna().any()].info())\n",
    "print(\"Indexes of rows with misses:\", data[data.isna().any(axis=1)].index)\n",
    "print(\"Columns:\\n\",data.columns)\n",
    "data.describe()\n",
    "\n",
    "# treating nans\n",
    "# Marcha: meaning of 0? If 0 = NaN: 9 NaN can be imputed with mean\n",
    "# HB: meaning of 0? Guess 0 = NaN\n",
    "data['Hb'].fillna(0, inplace=True)\n",
    "data['Marcha'].fillna(data['Marcha'].mean(), inplace=True)\n",
    "data['Marcha'] = data['Marcha'].replace({0:data['Marcha'].mean()})\n"
   ]
  },
  {
   "cell_type": "code",
   "execution_count": 3,
   "id": "5a5f0e57",
   "metadata": {},
   "outputs": [],
   "source": [
    "# usefull functions and declaration of variables which will be used later\n",
    "drop_col = []\n",
    "\n",
    "# drop features stored as strings in feats from dataframe df\n",
    "def drop_feat(df, feats):\n",
    "    for feature in feats:\n",
    "        if feature in df.columns: df.drop(feature, axis=1, inplace=True)\n",
    "    return df\n",
    "\n",
    "# get name of all binary features from dataframe df\n",
    "def get_binary_features(df):\n",
    "    return [feature for feature in df.columns \n",
    "     if len(data[feature].value_counts()) <= 2]"
   ]
  },
  {
   "cell_type": "code",
   "execution_count": 4,
   "id": "552daf13",
   "metadata": {},
   "outputs": [
    {
     "name": "stdout",
     "output_type": "stream",
     "text": [
      "Binary features with too low variance:\n",
      " ['Folio', 'GASTRITIS', 'CANCER', 'InsfHepatica', 'Ùlceras']\n",
      "To drop because of low variance or entropy:\n",
      " ['Folio', 'GASTRITIS', 'CANCER', 'InsfHepatica', 'Ùlceras', 'Residencia', 'MED10']\n",
      "LawtonAR    0    1  All\n",
      "LawtonX                \n",
      "1           0   31   31\n",
      "2           0   31   31\n",
      "3           1   38   39\n",
      "4          51    0   51\n",
      "5          96    2   98\n",
      "All       148  102  250\n",
      "MNAAR    0    1  All\n",
      "MNAx                \n",
      "1      114    0  114\n",
      "2        0  120  120\n",
      "3        2   14   16\n",
      "All    116  134  250\n",
      "Int64Index([118], dtype='int64')\n",
      "Int64Index([36, 222], dtype='int64')\n",
      "Int64Index([28, 214], dtype='int64')\n"
     ]
    }
   ],
   "source": [
    "# Folio = ID = index+1: no information\n",
    "if \"Folio\" not in drop_col: drop_col.append(\"Folio\")\n",
    "\n",
    "# get all binary features\n",
    "binary_features = get_binary_features(data)\n",
    "data[binary_features[1:]] = data[binary_features[1:]].replace({2:0})\n",
    "\n",
    "# apply variance threshold for binary\n",
    "sel_bin = VarianceThreshold(threshold=(0.95*(1-0.95)))\n",
    "sel_bin.fit_transform(data[binary_features])\n",
    "mask = sel_bin.get_support()\n",
    "\n",
    "for i in range(len(binary_features)):\n",
    "        if not mask[i] and binary_features[i] not in drop_col: drop_col.append(binary_features[i])\n",
    "\n",
    "print(\"Binary features with too low variance:\\n\", drop_col)\n",
    "\n",
    "# get features which are not binary and have at least 95% of the same value\n",
    "for i in data.columns:\n",
    "    if (i not in binary_features) and (i not in drop_col) and (data[i].value_counts(dropna=False).tolist()[0] > 0.95*data.shape[0]):\n",
    "        drop_col.append(i)\n",
    "\n",
    "print(\"To drop because of low variance or entropy:\\n\", drop_col)\n",
    "\n",
    "# Dependencia (1-4) ??\n",
    "# Charlson (2-10) ??\n",
    "# MM & IMM Meaning?\n",
    "# FuerzaPrension => not binary\n",
    "# Vision described for 1-3, but data show 1-5 (thoughts: encoding from -2 to 2)\n",
    "# Audicion described for 1-3, but data show 1-5\n",
    "# GDS (0-5): Meaning/Encoding unclear\n",
    "\n",
    "# categorical features: \n",
    "# Escolaridad (0-16), Letrado (1-3), EdoCivil (1-5), Cuidador (1-6), \n",
    "# Religion (1-5), Residencia (1-5), Ocupacion(1-4), Economia (1-3),\n",
    "# Manutencion (1-5), Vision (1-3/1-5), CorreccionVisual (0-5), \n",
    "# Audicion (1-3/1-4), CorreccionAuditiva (0-4), MED1, MED2, MED3, MED4,\n",
    "# MED5, MED6, MED7, MED8, MED9, MED10, Tabaquismo (1-3), Alcoholismo (1-3)\n",
    "# Drogas (1-3)\n",
    "\n",
    "# continous feature, which are encoded as categoricals/binary: => delete 2 versions?\n",
    "# MMSE/MMSEx/MMSEcodif, Barthel/BarthelX/BarthelAR, Norton/NortonX/NortonAlto, Lawton/LawtonX, MNA/MNAx\n",
    "\n",
    "\n",
    "# LawtonAR: check relation to LawtonX, maybe some errors?\n",
    "print(pd.crosstab(data['LawtonX'], data['LawtonAR'], margins='all'))\n",
    "# MNAAR: check realtion to MNAx, maybe some errors?\n",
    "print(pd.crosstab(data['MNAx'], data['MNAAR'], margins='all'))\n",
    "print(str(data[(data['LawtonAR']==0) & (data['LawtonX'] == 3)].index)\n",
    "      +\"\\n\"+\n",
    "      str(data[(data['LawtonAR']==1) & (data['LawtonX']==5)].index)\n",
    "      +\"\\n\"+\n",
    "     str(data[(data['MNAAR']==0) & (data['MNAx'] == 3)].index))"
   ]
  },
  {
   "cell_type": "code",
   "execution_count": 5,
   "id": "619a5bad",
   "metadata": {},
   "outputs": [
    {
     "name": "stdout",
     "output_type": "stream",
     "text": [
      "         Feat1       Feat2   pearson\n",
      "0       Drogas       Folio -0.719860\n",
      "1        MMSEx        MMSE -0.935184\n",
      "2    MMSEcodif        MMSE -0.728306\n",
      "3    MMSEcodif       MMSEx  0.808425\n",
      "4    BarthelAR    BarthelX -0.822434\n",
      "5      NortonX      Norton -0.767800\n",
      "6   NortonAlto      Norton  0.764823\n",
      "7   NortonAlto     NortonX -0.881799\n",
      "8      LawtonX      Lawton  0.932580\n",
      "9     LawtonAR      Lawton -0.821173\n",
      "10    LawtonAR     LawtonX -0.871083\n",
      "11        MNAx         MNA -0.872407\n",
      "12       MNAAR         MNA -0.765359\n",
      "13       MNAAR        MNAx  0.881624\n",
      "14         IMM          MM  0.908897\n",
      "15  Creatinina        Urea  0.801113\n",
      "16     Glucosa          Hb  0.792030\n",
      "17     Glucosa        Urea  0.725648\n",
      "18     Glucosa  Creatinina  0.799406\n",
      "19       Sodio        Urea  0.727220\n"
     ]
    }
   ],
   "source": [
    "# get correlation matrix\n",
    "corr = data.corr('pearson')\n",
    "\n",
    "# get features with strong relation in medicine/psychology\n",
    "# https://www.ncbi.nlm.nih.gov/pmc/articles/PMC6107969/\n",
    "very_high_correlation = [] # 0.7 to 1.0\n",
    "for i in range(len(corr)):\n",
    "    for j in range(i):\n",
    "        pearson_corr = np.abs(corr.iloc[i,j])\n",
    "        if 0.7 <= pearson_corr:\n",
    "            very_high_correlation.append((corr.columns[i], corr.columns[j], corr.iloc[i,j]))\n",
    "\n",
    "\n",
    "print(pd.DataFrame(very_high_correlation, columns=[\"Feat1\", \"Feat2\", \"pearson\"]))\n",
    "#corr.dropna(how='all').T.dropna(how='all').style.background_gradient('RdBu', vmax=1, vmin=-1)"
   ]
  },
  {
   "cell_type": "code",
   "execution_count": 6,
   "id": "b7d7d520",
   "metadata": {
    "pycharm": {
     "name": "#%%\n"
    }
   },
   "outputs": [],
   "source": [
    "# drop encoding of continous features (temporary): Check with prof\n",
    "drop_col.extend(['MMSEx', 'MMSEcodif', 'BarthelX', 'BarthelAR', 'NortonX', 'NortonAlto',\n",
    "                 'LawtonX', 'LawtonAR', 'MNAx', 'MNAAR'])\n",
    "\n",
    "# add features with high correlation to drop_col\n",
    "for pair in very_high_correlation:\n",
    "    if pair[0] in drop_col or pair[1] in drop_col:\n",
    "        continue\n",
    "    if pair[0] not in drop_col: drop_col.append(pair[0])\n",
    "\n",
    "# drop unnecessary features\n",
    "data = drop_feat(data, drop_col)"
   ]
  },
  {
   "cell_type": "code",
   "execution_count": 7,
   "outputs": [],
   "source": [
    "random.seed(1)\n",
    "\n",
    "# generate training and testset\n",
    "X = data.drop(\"Sarcopenia\", axis=1)\n",
    "y = data['Sarcopenia']\n",
    "X_train, X_test, y_train, y_test = train_test_split(X, y, test_size=0.2)"
   ],
   "metadata": {
    "collapsed": false,
    "pycharm": {
     "name": "#%%\n"
    }
   }
  },
  {
   "cell_type": "code",
   "execution_count": 26,
   "outputs": [
    {
     "name": "stdout",
     "output_type": "stream",
     "text": [
      "Best 5 features with:\n",
      "chi2: ['MED3' 'MED4' 'MED5' 'MED9' 'MM']\n",
      "F1: ['Ocupacion' 'TNCM' 'MM' 'Pantorrilla' 'Demencia']\n",
      "Best 10 features with:\n",
      "chi2: ['MED3' 'MED4' 'MED5' 'MED9' 'MM' 'FuerzaPrension' 'Pantorrilla'\n",
      " 'Demencia' 'Hb' 'Urea']\n",
      "F1: ['Edad' 'Letrado' 'EdoCivil' 'Ocupacion' 'Audiciòn' 'TNCM' 'MM'\n",
      " 'Pantorrilla' 'Demencia' 'Congiciòn']\n",
      "Best 20 features with:\n",
      "chi2: ['Edad' 'Escolaridad' 'CorreccionVisual' 'CorreccionAuditiva' 'TNCM'\n",
      " 'MED1' 'MED2' 'MED3' 'MED4' 'MED5' 'MED7' 'MED9' 'NùmeroDeCaìdas'\n",
      " 'Lawton' 'MM' 'FuerzaPrension' 'Pantorrilla' 'Demencia' 'Hb' 'Urea']\n",
      "F1: ['Edad' 'Letrado' 'EdoCivil' 'Ocupacion' 'CorreccionVisual' 'Audiciòn'\n",
      " 'HAS' 'TNCM' 'Depresion' 'NùmeroDeCaìdas' 'Norton' 'Lawton' 'MNA'\n",
      " 'Charlson' 'MM' 'FuerzaPrension' 'Pantorrilla' 'Demencia' 'Congiciòn'\n",
      " 'Dolor']\n"
     ]
    }
   ],
   "source": [
    "# get 5 best features with chi2, f1 score\n",
    "print(\"Best 5 features with:\")\n",
    "X_chi2_5 = SelectKBest(chi2, k=5).fit(X, y)\n",
    "print(\"chi2:\", X_chi2_5.get_feature_names_out(X.columns))\n",
    "X_f1_5 = SelectKBest(f_classif, k=5).fit(X,y)\n",
    "print(\"F1:\", X_f1_5.get_feature_names_out(X.columns))\n",
    "\n",
    "\n",
    "# get 10 best features with chi2, f1 score\n",
    "print(\"Best 10 features with:\")\n",
    "X_chi2_10 = SelectKBest(chi2, k=10).fit(X, y)\n",
    "print(\"chi2:\", X_chi2_10.get_feature_names_out(X.columns))\n",
    "X_f1_10 = SelectKBest(f_classif, k=10).fit(X,y)\n",
    "print(\"F1:\", X_f1_10.get_feature_names_out(X.columns))\n",
    "\n",
    "# get 20 best features with chi2, f1 score\n",
    "print(\"Best 20 features with:\")\n",
    "X_chi2_20 = SelectKBest(chi2, k=20).fit(X, y)\n",
    "print(\"chi2:\", X_chi2_20.get_feature_names_out(X.columns))\n",
    "X_f1_20 = SelectKBest(f_classif, k=20).fit(X,y)\n",
    "print(\"F1:\", X_f1_20.get_feature_names_out(X.columns))"
   ],
   "metadata": {
    "collapsed": false,
    "pycharm": {
     "name": "#%%\n"
    }
   }
  },
  {
   "cell_type": "code",
   "execution_count": 22,
   "outputs": [
    {
     "data": {
      "text/plain": "(250, 62)"
     },
     "execution_count": 22,
     "metadata": {},
     "output_type": "execute_result"
    }
   ],
   "source": [
    "# to do next:\n",
    "# - hyperparameter tuning for RF, SVC, NN\n",
    "# - afterwards recursive feature elimination"
   ],
   "metadata": {
    "collapsed": false,
    "pycharm": {
     "name": "#%%\n"
    }
   }
  },
  {
   "cell_type": "code",
   "execution_count": null,
   "outputs": [],
   "source": [],
   "metadata": {
    "collapsed": false,
    "pycharm": {
     "name": "#%%\n"
    }
   }
  }
 ],
 "metadata": {
  "kernelspec": {
   "display_name": "Python 3 (ipykernel)",
   "language": "python",
   "name": "python3"
  },
  "language_info": {
   "codemirror_mode": {
    "name": "ipython",
    "version": 3
   },
   "file_extension": ".py",
   "mimetype": "text/x-python",
   "name": "python",
   "nbconvert_exporter": "python",
   "pygments_lexer": "ipython3",
   "version": "3.8.12"
  }
 },
 "nbformat": 4,
 "nbformat_minor": 5
}