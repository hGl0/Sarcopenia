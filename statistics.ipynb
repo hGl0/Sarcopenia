{
 "cells": [
  {
   "cell_type": "code",
   "execution_count": 1,
   "id": "b90839aa",
   "metadata": {},
   "outputs": [],
   "source": [
    "# load important modules\n",
    "import random\n",
    "import matplotlib.pyplot as plt\n",
    "import pandas as pd\n",
    "import numpy as np\n",
    "import seaborn as sns\n",
    "import scipy.stats as stats\n",
    "\n",
    "from sklearn.feature_selection import VarianceThreshold, SelectKBest, chi2, f_classif, RFE\n",
    "from sklearn.model_selection import train_test_split, GridSearchCV\n",
    "from sklearn.preprocessing import MinMaxScaler\n",
    "from sklearn.svm import SVC\n",
    "from sklearn.ensemble import RandomForestClassifier\n",
    "\n",
    "%matplotlib inline\n",
    "\n",
    "# ignore warnings\n",
    "import warnings\n",
    "warnings.filterwarnings('ignore')"
   ]
  },
  {
   "cell_type": "code",
   "execution_count": 2,
   "id": "07dab463",
   "metadata": {},
   "outputs": [
    {
     "name": "stdout",
     "output_type": "stream",
     "text": [
      "(250, 84)\n",
      "serve sarcopenia:  51\n",
      "mild sarcopenia:  199\n",
      "(233, 84)\n",
      "serve sarcopenia:  43\n",
      "mild sarcopenia:  190\n",
      "shape: (233, 84)\n",
      "\"Misses\" in:\n",
      "<class 'pandas.core.frame.DataFrame'>\n",
      "Int64Index: 233 entries, 0 to 249\n",
      "Data columns (total 2 columns):\n",
      " #   Column  Non-Null Count  Dtype  \n",
      "---  ------  --------------  -----  \n",
      " 0   Marcha  231 non-null    float64\n",
      " 1   Hb      232 non-null    float64\n",
      "dtypes: float64(2)\n",
      "memory usage: 5.5 KB\n",
      "None\n",
      "Indexes of rows with misses: Int64Index([24, 191, 210], dtype='int64')\n"
     ]
    }
   ],
   "source": [
    "# load dataset\n",
    "data = pd.DataFrame(pd.read_excel('data/sarcopenia.xlsx'))\n",
    "print(data.shape)\n",
    "print(\"serve sarcopenia: \", data[data['Sarcopenia']==1].shape[0])\n",
    "print(\"mild sarcopenia: \", data[data['Sarcopenia']==2].shape[0])\n",
    "\n",
    "# drop duplicated rows\n",
    "data.drop(data[data.drop(\"Folio\", axis=1).duplicated()].index, inplace=True)\n",
    "print(data.shape)\n",
    "print(\"serve sarcopenia: \", data[data['Sarcopenia']==1].shape[0])\n",
    "print(\"mild sarcopenia: \", data[data['Sarcopenia']==2].shape[0])\n",
    "\n",
    "# Genero 1: male, 2: female => change to 0: male, 1: female\n",
    "# SI: 1, NO: 2 => change to NO: 0, YES: 1\n",
    "data['Genero'] = data['Genero'].replace({1: 0, 2: 1})\n",
    "\n",
    "# overview of data\n",
    "print(\"shape:\", data.shape)\n",
    "print(\"\\\"Misses\\\" in:\")\n",
    "print(data.loc[:,data.isna().any()].info())\n",
    "print(\"Indexes of rows with misses:\", data[data.isna().any(axis=1)].index)\n",
    "\n",
    "#print(data['Marcha'].value_counts(dropna=False).sort_index())\n",
    "#print(data['Hb'].value_counts(dropna=False).sort_index())\n",
    "#print(\"Columns:\\n\",data.columns)\n",
    "#data.describe()\n",
    "\n",
    "\n",
    "# HB: meaning of 0? Guess 0 = NaN\n",
    "data['Hb'].fillna(0, inplace=True)\n",
    "# treating nans8\n",
    "# Marcha: meaning of 0? If 0 = NaN: 8 NaN can be imputed with mean\n",
    "data['Marcha'].fillna(data['Marcha'].mean(), inplace=True)\n",
    "data['Marcha'] = data['Marcha'].replace({0:data['Marcha'].mean()})\n",
    "\n",
    "\n",
    "# Change encoding, so that 0 always equals ninguno/-a or regular, depending on the scale\n",
    "data['Cuidador'].replace({6 : 0}, inplace=True)\n",
    "data['Letrado'].replace({3 : 0}, inplace=True)\n",
    "data['Religiòn'].replace({5 : 0}, inplace=True)\n",
    "data['Economìa'].replace({2 : 0, 3 : -1}, inplace=True)\n",
    "data['Ocupacion'].replace({1: 0, 2:1, 3:2, 4:3}, inplace=True)\n",
    "data['Manutencion'].replace({5 : 0}, inplace=True)\n",
    "data['Visiòn'].replace({1:2, 2:1, 3:0, 4:-1, 5:-2}, inplace=True)\n",
    "data['Audiciòn'].replace({1:2, 2:1, 3:0, 4:-1, 5:-2}, inplace=True)\n",
    "data['CorreccionVisual'].replace({1:3, 3:1, 4:-1, 5:-2}, inplace=True)\n",
    "data['CorreccionAuditiva'].replace({1:3, 3:1, 4:-1, 5:-2}, inplace=True)\n",
    "data['Tabaquismo'].replace({1:0, 2:1, 3:-1}, inplace=True)\n",
    "data['Alcoholismo'].replace({1:0, 2:1, 3:-1}, inplace=True)\n",
    "data['Drogas'].replace({1:0, 2:1, 3:-1}, inplace=True)"
   ]
  },
  {
   "cell_type": "code",
   "execution_count": 3,
   "id": "5a5f0e57",
   "metadata": {},
   "outputs": [],
   "source": [
    "# usefull functions and declaration of variables which will be used later\n",
    "drop_col = []\n",
    "\n",
    "# drop features stored as strings in feats from dataframe df\n",
    "def drop_feat(df, feats):\n",
    "    for feature in feats:\n",
    "        if feature in df.columns: df.drop(feature, axis=1, inplace=True)\n",
    "    return df\n",
    "\n",
    "# get name of all binary features from dataframe df\n",
    "# returns array with names\n",
    "def get_binary_features(df):\n",
    "    return [feature for feature in df.columns \n",
    "     if len(data[feature].value_counts()) <= 2]"
   ]
  },
  {
   "cell_type": "code",
   "execution_count": 4,
   "id": "1b678bcc",
   "metadata": {},
   "outputs": [],
   "source": [
    "#### Remarks about encoding and features ####\n",
    "# Charlson (2-10) : Not in excel, no understanding of meaning\n",
    "# MM & IMM Meaning?\n",
    "# FuerzaPrension => not binary, in excel as binary (https://pubmed.ncbi.nlm.nih.gov/21624928/)\n",
    "# GDS (0-5): Meaning/Encoding unclear, not in excel\n",
    "\n",
    "#### NANs for every feature ####\n",
    "# MMSE : 0 = none? : 7 cases (exel says below 14 DETERIORO GRAVE)\n",
    "# GDS : not in exel, none = 0 in 60 cases?\n",
    "# Barthel : encoding of excel does not match encoding in data\n",
    "# Norton : encoding of excel does not match encoding in data\n",
    "# Lawton : encoding of excel does not match encoding in data\n",
    "# MNA : encoding of excel does not match encoding in data\n",
    "# Hb: none = 0 : 130 cases\n",
    "# urea: none = 0 : 144 cases\n",
    "# Creatina: none = 0 : 128 cases\n",
    "# Albumina: none = 0 : 188 cases\n",
    "# Glucosa: none = 0 : 121 cases\n",
    "# Sodio: none = 0 : 154 cases\n",
    "\n",
    "# Charlson, IMM, MM, GDS, FuerzaPrension"
   ]
  },
  {
   "cell_type": "code",
   "execution_count": 5,
   "id": "2dcc5dbb",
   "metadata": {
    "pycharm": {
     "name": "#%%\n"
    }
   },
   "outputs": [
    {
     "name": "stdout",
     "output_type": "stream",
     "text": [
      "Binary features with too low variance:\n",
      " ['MMSEx', 'MMSE', 'Barthel', 'BarthelX', 'NortonX', 'Norton', 'Lawton', 'LawtonX', 'MNAx', 'MNA', 'MM', 'Folio', 'OSTEOP', 'GASTRITIS', 'HIPOTIROIDISMO', 'HIPERTENSION', 'CANCER', 'InsfHepatica', 'Ùlceras', 'Infecciòn']\n",
      "To drop because of low variance or entropy:\n",
      " ['MMSEx', 'MMSE', 'Barthel', 'BarthelX', 'NortonX', 'Norton', 'Lawton', 'LawtonX', 'MNAx', 'MNA', 'MM', 'Folio', 'OSTEOP', 'GASTRITIS', 'HIPOTIROIDISMO', 'HIPERTENSION', 'CANCER', 'InsfHepatica', 'Ùlceras', 'Infecciòn', 'Residencia', 'CorreccionAuditiva', 'MED9', 'MED10']\n"
     ]
    }
   ],
   "source": [
    "# drop (marked yellow in dataset), results in binary attributs\n",
    "drop_col.extend(['MMSEx', 'MMSE', 'Barthel', 'BarthelX', 'NortonX', 'Norton',\n",
    "                 'Lawton', 'LawtonX', 'MNAx', 'MNA', 'MM'])\n",
    "\n",
    "# Folio = ID = index+1: no information\n",
    "if \"Folio\" not in drop_col: drop_col.append(\"Folio\")\n",
    "\n",
    "data = drop_feat(data, drop_col)\n",
    "\n",
    "# get all binary features\n",
    "binary_features = get_binary_features(data)\n",
    "data[binary_features[1:]] = data[binary_features[1:]].replace({2:0})\n",
    "\n",
    "# apply variance threshold for binary\n",
    "sel_bin = VarianceThreshold(threshold=(0.90*(1-0.90)))\n",
    "sel_bin.fit_transform(data[binary_features])\n",
    "mask = sel_bin.get_support()\n",
    "\n",
    "for i in range(len(binary_features)):\n",
    "        if not mask[i] and binary_features[i] not in drop_col: drop_col.append(binary_features[i])\n",
    "\n",
    "print(\"Binary features with too low variance:\\n\", drop_col)\n",
    "\n",
    "# get features which are not binary and have at least 95% of the same value\n",
    "for i in data.columns:\n",
    "    if (i not in binary_features) and (i not in drop_col) and (data[i].value_counts(dropna=False).tolist()[0] > 0.9*data.shape[0]):\n",
    "        drop_col.append(i)\n",
    "\n",
    "print(\"To drop because of low variance or entropy:\\n\", drop_col)\n",
    "# categorical features: \n",
    "# Escolaridad (0-16), Letrado (1-3), EdoCivil (1-5), Cuidador (1-6), \n",
    "# Religion (1-5), Residencia (1-5), Ocupacion(1-4), Economia (1-3),\n",
    "# Manutencion (1-5), Vision (1-3/1-5), CorreccionVisual (0-5), \n",
    "# Audicion (1-3/1-4), CorreccionAuditiva (0-4), MED1, MED2, MED3, MED4,\n",
    "# MED5, MED6, MED7, MED8, MED9, MED10, Tabaquismo (1-3), Alcoholismo (1-3)\n",
    "# Drogas (1-3)\n",
    "\n",
    "# continous feature, which are encoded as categoricals/binary: => delete 2 versions?\n",
    "# MMSE/MMSEx/MMSEcodif, Barthel/BarthelX/BarthelAR, Norton/NortonX/NortonAlto, Lawton/LawtonX, MNA/MNAx\n",
    "\n",
    "\n",
    "# LawtonAR: check relation to LawtonX, maybe some errors?\n",
    "#print(pd.crosstab(data['LawtonX'], data['LawtonAR'], margins='all'))\n",
    "# MNAAR: check realtion to MNAx, maybe some errors?\n",
    "#print(pd.crosstab(data['MNAx'], data['MNAAR'], margins='all'))\n",
    "#print(str(data[(data['LawtonAR']==0) & (data['LawtonX'] == 3)].index)\n",
    "#      +\"\\n\"+\n",
    "#      str(data[(data['LawtonAR']==1) & (data['LawtonX']==5)].index)\n",
    "#      +\"\\n\"+\n",
    "#     str(data[(data['MNAAR']==0) & (data['MNAx'] == 3)].index))"
   ]
  },
  {
   "cell_type": "code",
   "execution_count": 6,
   "id": "619a5bad",
   "metadata": {},
   "outputs": [
    {
     "name": "stdout",
     "output_type": "stream",
     "text": [
      "(233, 60)\n",
      "High Pearson Correlation:  [('OA', 'Visiòn', -0.7196685712522948), ('NùmeroDeCaìdas', 'Caìdas', 0.7030366149456374), ('Creatinina', 'Urea', 0.7994116738931769), ('Glucosa', 'Hb', 0.7812125936635224), ('Glucosa', 'Urea', 0.721906997873541), ('Glucosa', 'Creatinina', 0.7934611572233724), ('Sodio', 'Urea', 0.7343328170353899)]\n",
      "High Spearman Correlation:  [('OA', 'Visiòn', -0.767579938948238), ('MED8', 'MED7', 0.7610229016320863), ('Drogas', 'Visiòn', -0.7012526441807251), ('NùmeroDeCaìdas', 'Caìdas', 0.9457066390799906), ('Creatinina', 'Urea', 0.792018911952844), ('Glucosa', 'Hb', 0.7404099543937226), ('Glucosa', 'Urea', 0.7283005989336238), ('Glucosa', 'Creatinina', 0.7889877926030032), ('Sodio', 'Urea', 0.7778092439720753)]\n",
      "High Kendall Correlation:  [('OA', 'Visiòn', -0.7000899413156257), ('NùmeroDeCaìdas', 'Caìdas', 0.8766335417280183)]\n"
     ]
    }
   ],
   "source": [
    "data = drop_feat(data, drop_col)\n",
    "print(data.shape)\n",
    "\n",
    "# get correlation matrix\n",
    "corr_spear = data.corr('spearman')\n",
    "corr_pearson = data.corr('pearson')\n",
    "corr_kendall = data.corr('kendall')\n",
    "\n",
    "# get features with strong relation in medicine/psychology\n",
    "# https://www.ncbi.nlm.nih.gov/pmc/articles/PMC6107969/\n",
    "high_pearson = [] # 0.7 to 1.0\n",
    "high_spear = []\n",
    "high_kendall = []\n",
    "for i in range(data.shape[1]):\n",
    "    for j in range(i):\n",
    "        pearson_corr = np.abs(corr_pearson.iloc[i,j])\n",
    "        spearman_corr = np.abs(corr_spear.iloc[i,j])\n",
    "        kendall_corr = np.abs(corr_kendall.iloc[i,j])\n",
    "        if 0.7 <= pearson_corr:\n",
    "            high_pearson.append((corr_pearson.columns[i], corr_pearson.columns[j], corr_pearson.iloc[i][j]))\n",
    "        if 0.7 <= spearman_corr:\n",
    "            high_spear.append((corr_spear.columns[i], corr_spear.columns[j], corr_spear.iloc[i][j]))\n",
    "        if 0.7 <= kendall_corr:\n",
    "            high_kendall.append((corr_kendall.columns[i], corr_kendall.columns[j], corr_kendall.iloc[i][j]))\n",
    "\n",
    "\n",
    "#high_corr = []\n",
    "#for p in high_pearson:\n",
    "#    if p in high_kendall and p in high_spear:\n",
    "#        high_corr.append(p)\n",
    "\n",
    "#print(\"spearman correlation\")\n",
    "#print(pd.DataFrame(high_spear))\n",
    "#print('kendall correlation')\n",
    "#print(pd.DataFrame(high_kendall))\n",
    "#print('pearson correlation')\n",
    "#print(pd.DataFrame(high_pearson))\n",
    "#corr.dropna(how='all').T.dropna(how='all').style.background_gradient('RdBu', vmax=1, vmin=-1)\n",
    "\n",
    "# try building model from 3 features by definition\n",
    "\n",
    "print(\"High Pearson Correlation: \", high_pearson)\n",
    "print(\"High Spearman Correlation: \", high_spear)\n",
    "print(\"High Kendall Correlation: \", high_kendall)"
   ]
  },
  {
   "cell_type": "code",
   "execution_count": 7,
   "id": "b7d7d520",
   "metadata": {
    "pycharm": {
     "name": "#%%\n"
    }
   },
   "outputs": [
    {
     "name": "stdout",
     "output_type": "stream",
     "text": [
      "(231, 53)\n"
     ]
    }
   ],
   "source": [
    "# add features with high correlation to drop_col\n",
    "#for pair in high_pearson:\n",
    "#    if pair[0] == 'IMM' and pair[1] not in drop_col:\n",
    "#        drop_col.append(pair[1])\n",
    "#        continue\n",
    "#    if pair[0] in drop_col or pair[1] in drop_col:\n",
    "#        continue\n",
    "#    if pair[0] not in drop_col: drop_col.append(pair[0])\n",
    "#for pair in high_kendall:\n",
    "#    if pair[0] == 'IMM' and pair[1] not in drop_col:\n",
    "#        drop_col.append(pair[1])\n",
    "#        continue\n",
    "#    if pair[0] in drop_col or pair[1] in drop_col:\n",
    "#        continue\n",
    "#    if pair[0] not in drop_col: drop_col.append(pair[0])\n",
    "#for pair in high_spear:\n",
    "#    if pair[0] == 'IMM' and pair[1] not in drop_col:\n",
    "#        drop_col.append(pair[1])\n",
    "#        continue\n",
    "#    if pair[0] in drop_col or pair[1] in drop_col:\n",
    "#        continue\n",
    "#    if pair[0] not in drop_col: drop_col.append(pair[0])\n",
    "\n",
    "# drop unnecessary features\n",
    "\n",
    "# idealise dataset by dropping every column which contains misses:\n",
    "drop_col.extend(['Hb', 'Urea', 'Creatinina', 'Albumina', 'Glucosa', 'Sodio'])\n",
    "drop_col.extend(['Caìdas']) # included in Numero de Caidas\n",
    "idel_data = drop_feat(data, drop_col)\n",
    "# drop duplicates in idealised dataset\n",
    "idel_data.drop(idel_data[idel_data.duplicated()].index, inplace=True)\n",
    "#idel_data.drop(data.duplicated())\n",
    "print(idel_data.shape)"
   ]
  },
  {
   "cell_type": "code",
   "execution_count": 24,
   "id": "1b69827b",
   "metadata": {
    "pycharm": {
     "name": "#%%\n"
    }
   },
   "outputs": [],
   "source": [
    "#for i in idel_data.columns:\n",
    "#    print(idel_data[i].value_counts())\n",
    "\n",
    "#idel_corr = idel_data.corr('spearman')\n",
    "\n",
    "#idel_list_corr=[]\n",
    "\n",
    "#for i in range(len(idel_corr.columns)):\n",
    "#    for j in range(i):\n",
    "#        if np.abs(idel_corr.iloc[i][j]) >= 0.7:\n",
    "#            idel_list_corr.append((idel_corr.columns[i], idel_corr.columns[j], idel_corr.iloc[i][j]))\n",
    "\n",
    "#print(idel_list_corr)"
   ]
  },
  {
   "cell_type": "code",
   "execution_count": 9,
   "id": "59b2ba19",
   "metadata": {
    "pycharm": {
     "name": "#%%\n"
    }
   },
   "outputs": [
    {
     "data": {
      "text/plain": "          Genero       Edad  Escolaridad    Letrado   EdoCivil   Cuidador  \\\ncount  42.000000  42.000000    42.000000  42.000000  42.000000  42.000000   \nmean    0.690476  81.452381     4.666667   1.142857   2.785714   2.452381   \nstd     0.467901   7.322542     4.159425   0.521322   1.279019   1.810570   \nmin     0.000000  69.000000     0.000000   0.000000   1.000000   0.000000   \n25%     0.000000  76.750000     0.250000   1.000000   2.000000   1.000000   \n50%     1.000000  81.000000     3.500000   1.000000   3.000000   2.000000   \n75%     1.000000  85.750000     6.750000   1.000000   3.000000   4.000000   \nmax     1.000000  95.000000    12.000000   2.000000   5.000000   5.000000   \n\n        Religiòn  Ocupacion   Economìa  Manutencion  ...        IMM  \\\ncount  42.000000  42.000000  42.000000    42.000000  ...  42.000000   \nmean    1.095238   0.833333  -0.142857     2.095238  ...   6.692857   \nstd     0.297102   0.762431   0.354169     1.649974  ...   1.786212   \nmin     1.000000   0.000000  -1.000000     0.000000  ...   4.950000   \n25%     1.000000   0.000000   0.000000     1.000000  ...   5.310000   \n50%     1.000000   1.000000   0.000000     1.000000  ...   5.910000   \n75%     1.000000   1.000000   0.000000     4.000000  ...   8.177500   \nmax     2.000000   3.000000   0.000000     4.000000  ...  12.130000   \n\n         AnguloF  FuerzaPrension  Pantorrilla     Marcha  Sarcopenia  \\\ncount  42.000000       42.000000    42.000000  42.000000        42.0   \nmean    4.661905        0.261905    30.692857   0.713600         1.0   \nstd     1.256001        0.445001     3.323119   0.335751         0.0   \nmin     3.500000        0.000000    25.500000   0.053000         1.0   \n25%     3.900000        0.000000    28.250000   0.510000         1.0   \n50%     4.200000        0.000000    30.000000   0.670000         1.0   \n75%     5.250000        0.750000    33.000000   0.965000         1.0   \nmax     8.500000        1.000000    39.000000   1.560000         1.0   \n\n        Demencia  Congiciòn        EVC      Dolor  \ncount  42.000000  42.000000  42.000000  42.000000  \nmean    0.404762   0.690476   0.190476   0.238095  \nstd     0.496796   0.467901   0.397437   0.431081  \nmin     0.000000   0.000000   0.000000   0.000000  \n25%     0.000000   0.000000   0.000000   0.000000  \n50%     0.000000   1.000000   0.000000   0.000000  \n75%     1.000000   1.000000   0.000000   0.000000  \nmax     1.000000   1.000000   1.000000   1.000000  \n\n[8 rows x 53 columns]",
      "text/html": "<div>\n<style scoped>\n    .dataframe tbody tr th:only-of-type {\n        vertical-align: middle;\n    }\n\n    .dataframe tbody tr th {\n        vertical-align: top;\n    }\n\n    .dataframe thead th {\n        text-align: right;\n    }\n</style>\n<table border=\"1\" class=\"dataframe\">\n  <thead>\n    <tr style=\"text-align: right;\">\n      <th></th>\n      <th>Genero</th>\n      <th>Edad</th>\n      <th>Escolaridad</th>\n      <th>Letrado</th>\n      <th>EdoCivil</th>\n      <th>Cuidador</th>\n      <th>Religiòn</th>\n      <th>Ocupacion</th>\n      <th>Economìa</th>\n      <th>Manutencion</th>\n      <th>...</th>\n      <th>IMM</th>\n      <th>AnguloF</th>\n      <th>FuerzaPrension</th>\n      <th>Pantorrilla</th>\n      <th>Marcha</th>\n      <th>Sarcopenia</th>\n      <th>Demencia</th>\n      <th>Congiciòn</th>\n      <th>EVC</th>\n      <th>Dolor</th>\n    </tr>\n  </thead>\n  <tbody>\n    <tr>\n      <th>count</th>\n      <td>42.000000</td>\n      <td>42.000000</td>\n      <td>42.000000</td>\n      <td>42.000000</td>\n      <td>42.000000</td>\n      <td>42.000000</td>\n      <td>42.000000</td>\n      <td>42.000000</td>\n      <td>42.000000</td>\n      <td>42.000000</td>\n      <td>...</td>\n      <td>42.000000</td>\n      <td>42.000000</td>\n      <td>42.000000</td>\n      <td>42.000000</td>\n      <td>42.000000</td>\n      <td>42.0</td>\n      <td>42.000000</td>\n      <td>42.000000</td>\n      <td>42.000000</td>\n      <td>42.000000</td>\n    </tr>\n    <tr>\n      <th>mean</th>\n      <td>0.690476</td>\n      <td>81.452381</td>\n      <td>4.666667</td>\n      <td>1.142857</td>\n      <td>2.785714</td>\n      <td>2.452381</td>\n      <td>1.095238</td>\n      <td>0.833333</td>\n      <td>-0.142857</td>\n      <td>2.095238</td>\n      <td>...</td>\n      <td>6.692857</td>\n      <td>4.661905</td>\n      <td>0.261905</td>\n      <td>30.692857</td>\n      <td>0.713600</td>\n      <td>1.0</td>\n      <td>0.404762</td>\n      <td>0.690476</td>\n      <td>0.190476</td>\n      <td>0.238095</td>\n    </tr>\n    <tr>\n      <th>std</th>\n      <td>0.467901</td>\n      <td>7.322542</td>\n      <td>4.159425</td>\n      <td>0.521322</td>\n      <td>1.279019</td>\n      <td>1.810570</td>\n      <td>0.297102</td>\n      <td>0.762431</td>\n      <td>0.354169</td>\n      <td>1.649974</td>\n      <td>...</td>\n      <td>1.786212</td>\n      <td>1.256001</td>\n      <td>0.445001</td>\n      <td>3.323119</td>\n      <td>0.335751</td>\n      <td>0.0</td>\n      <td>0.496796</td>\n      <td>0.467901</td>\n      <td>0.397437</td>\n      <td>0.431081</td>\n    </tr>\n    <tr>\n      <th>min</th>\n      <td>0.000000</td>\n      <td>69.000000</td>\n      <td>0.000000</td>\n      <td>0.000000</td>\n      <td>1.000000</td>\n      <td>0.000000</td>\n      <td>1.000000</td>\n      <td>0.000000</td>\n      <td>-1.000000</td>\n      <td>0.000000</td>\n      <td>...</td>\n      <td>4.950000</td>\n      <td>3.500000</td>\n      <td>0.000000</td>\n      <td>25.500000</td>\n      <td>0.053000</td>\n      <td>1.0</td>\n      <td>0.000000</td>\n      <td>0.000000</td>\n      <td>0.000000</td>\n      <td>0.000000</td>\n    </tr>\n    <tr>\n      <th>25%</th>\n      <td>0.000000</td>\n      <td>76.750000</td>\n      <td>0.250000</td>\n      <td>1.000000</td>\n      <td>2.000000</td>\n      <td>1.000000</td>\n      <td>1.000000</td>\n      <td>0.000000</td>\n      <td>0.000000</td>\n      <td>1.000000</td>\n      <td>...</td>\n      <td>5.310000</td>\n      <td>3.900000</td>\n      <td>0.000000</td>\n      <td>28.250000</td>\n      <td>0.510000</td>\n      <td>1.0</td>\n      <td>0.000000</td>\n      <td>0.000000</td>\n      <td>0.000000</td>\n      <td>0.000000</td>\n    </tr>\n    <tr>\n      <th>50%</th>\n      <td>1.000000</td>\n      <td>81.000000</td>\n      <td>3.500000</td>\n      <td>1.000000</td>\n      <td>3.000000</td>\n      <td>2.000000</td>\n      <td>1.000000</td>\n      <td>1.000000</td>\n      <td>0.000000</td>\n      <td>1.000000</td>\n      <td>...</td>\n      <td>5.910000</td>\n      <td>4.200000</td>\n      <td>0.000000</td>\n      <td>30.000000</td>\n      <td>0.670000</td>\n      <td>1.0</td>\n      <td>0.000000</td>\n      <td>1.000000</td>\n      <td>0.000000</td>\n      <td>0.000000</td>\n    </tr>\n    <tr>\n      <th>75%</th>\n      <td>1.000000</td>\n      <td>85.750000</td>\n      <td>6.750000</td>\n      <td>1.000000</td>\n      <td>3.000000</td>\n      <td>4.000000</td>\n      <td>1.000000</td>\n      <td>1.000000</td>\n      <td>0.000000</td>\n      <td>4.000000</td>\n      <td>...</td>\n      <td>8.177500</td>\n      <td>5.250000</td>\n      <td>0.750000</td>\n      <td>33.000000</td>\n      <td>0.965000</td>\n      <td>1.0</td>\n      <td>1.000000</td>\n      <td>1.000000</td>\n      <td>0.000000</td>\n      <td>0.000000</td>\n    </tr>\n    <tr>\n      <th>max</th>\n      <td>1.000000</td>\n      <td>95.000000</td>\n      <td>12.000000</td>\n      <td>2.000000</td>\n      <td>5.000000</td>\n      <td>5.000000</td>\n      <td>2.000000</td>\n      <td>3.000000</td>\n      <td>0.000000</td>\n      <td>4.000000</td>\n      <td>...</td>\n      <td>12.130000</td>\n      <td>8.500000</td>\n      <td>1.000000</td>\n      <td>39.000000</td>\n      <td>1.560000</td>\n      <td>1.0</td>\n      <td>1.000000</td>\n      <td>1.000000</td>\n      <td>1.000000</td>\n      <td>1.000000</td>\n    </tr>\n  </tbody>\n</table>\n<p>8 rows × 53 columns</p>\n</div>"
     },
     "execution_count": 9,
     "metadata": {},
     "output_type": "execute_result"
    }
   ],
   "source": [
    "# every feature ranges between 0 and 1\n",
    "minmax = MinMaxScaler()\n",
    "data_norm = pd.DataFrame(minmax.fit_transform(idel_data), columns=idel_data.columns)\n",
    "\n",
    "\n",
    "# moderate = decrease of IMM and (grip power or walking speed)\n",
    "# serve = decrease of IMM and grip power and walking speed\n",
    "\n",
    "# 18 from serve_sarco differ to definition and 7 from definition differ to serve_sarco\n",
    "# 24/42 samples can be classified as serve by IMM, FuerzaPrension and Marcha\n",
    "serve_sarco = data_norm.loc[data_norm['Sarcopenia']==1] # 42 samples\n",
    "mild_sarco = data_norm.loc[data_norm['Sarcopenia']==0] # 189 samples\n",
    "\n",
    "# serve sarcopenia cases by definition given in excelsheet\n",
    "serve_def = data_norm[((data_norm['Genero']==1) &\n",
    "           (data_norm['Marcha']<=0.423) &\n",
    "           (data_norm['IMM'] <= 0.075)) |\n",
    "         ((data_norm['Genero']==0) &\n",
    "           (data_norm['Marcha'] <= 0.423) &\n",
    "           (data_norm['IMM'] <= 0.23))] # 31 samples\n",
    "\n",
    "# get differences\n",
    "#diff = serve_sarco.merge(serve_def, how='left', indicator=True)\n",
    "#diff[diff['_merge'] != 'both'].shape[0]\n",
    "\n",
    "idel_data.loc[idel_data['Sarcopenia']==1].describe()\n",
    "#idel_data.loc[idel_data['Sarcopenia']==0].describe()"
   ]
  },
  {
   "cell_type": "code",
   "execution_count": 10,
   "id": "21df8198",
   "metadata": {
    "pycharm": {
     "name": "#%%\n"
    }
   },
   "outputs": [
    {
     "data": {
      "text/plain": "<Figure size 1440x360 with 1 Axes>",
      "image/png": "[encoded data removed]"
     },
     "metadata": {
      "needs_background": "light"
     },
     "output_type": "display_data"
    }
   ],
   "source": [
    "def draw_plot(data, offset, edge_color, fill_color, title):\n",
    "    pos = np.arange(data.shape[1])+offset\n",
    "    bp = ax.boxplot(data, positions= pos, widths=0.3, patch_artist=True)\n",
    "    for element in ['boxes', 'whiskers', 'fliers', 'medians', 'caps']:\n",
    "        plt.setp(bp[element], color=edge_color)\n",
    "    for patch in bp['boxes']:\n",
    "        patch.set(facecolor=fill_color)\n",
    "\n",
    "# boxplot of serve and mild sarcopenia cases\n",
    "fig, ax = plt.subplots(figsize=(20,5))\n",
    "draw_plot(serve_sarco, -0.2, \"red\", \"white\", \"Serve Sarcopenia (red) vs. mild Sarcopenia (black)\")\n",
    "draw_plot(mild_sarco, +0.2, \"black\", \"white\", \"Serve Sarcopenia (red) vs. mild Sarcopenia (black)\")\n",
    "plt.xticks([i for i in range(data_norm.shape[1])], data_norm.columns, rotation=90)\n",
    "plt.savefig(\"boxplot_serve_mild.png\")\n",
    "plt.show()\n",
    "\n"
   ]
  },
  {
   "cell_type": "code",
   "execution_count": 11,
   "id": "ed13ff10",
   "metadata": {
    "pycharm": {
     "name": "#%%\n"
    }
   },
   "outputs": [],
   "source": [
    "X = data_norm.drop(\"Sarcopenia\", axis=1)\n",
    "y = data_norm['Sarcopenia']"
   ]
  },
  {
   "cell_type": "code",
   "execution_count": 28,
   "id": "869fa2db",
   "metadata": {
    "pycharm": {
     "name": "#%%\n"
    }
   },
   "outputs": [
    {
     "name": "stdout",
     "output_type": "stream",
     "text": [
      "Best 5 features with:\n",
      "        Score   p_value         Feature\n",
      "18  12.518519  0.000403            TNCM\n",
      "48  11.616049  0.000654        Demencia\n",
      "45   7.603448  0.005826  FuerzaPrension\n",
      "46   2.746037  0.097496     Pantorrilla\n",
      "43   2.232362  0.135147             IMM\n",
      "F1: ['CorreccionVisual' 'TNCM' 'IMM' 'Pantorrilla' 'Demencia']\n",
      "Intersection:  ['TNCM', 'IMM', 'Pantorrilla', 'Demencia']\n",
      "Best 10 features with:\n",
      "        Score   p_value           Feature\n",
      "18  12.518519  0.000403              TNCM\n",
      "48  11.616049  0.000654          Demencia\n",
      "45   7.603448  0.005826    FuerzaPrension\n",
      "46   2.746037  0.097496       Pantorrilla\n",
      "43   2.232362  0.135147               IMM\n",
      "40   1.873357  0.171091          LawtonAR\n",
      "51   1.854595  0.173250             Dolor\n",
      "49   1.848206  0.173992         Congiciòn\n",
      "42   1.814815  0.177932          Charlson\n",
      "11   1.678005  0.195190  CorreccionVisual\n",
      "chi2: ['CorreccionVisual' 'TNCM' 'LawtonAR' 'Charlson' 'IMM' 'FuerzaPrension'\n",
      " 'Pantorrilla' 'Demencia' 'Congiciòn' 'Dolor']\n",
      "F1: ['Edad' 'Ocupacion' 'CorreccionVisual' 'TNCM' 'NortonAlto' 'IMM'\n",
      " 'FuerzaPrension' 'Pantorrilla' 'Demencia' 'Congiciòn']\n",
      "Intersection:  ['CorreccionVisual', 'TNCM', 'IMM', 'FuerzaPrension', 'Pantorrilla', 'Demencia', 'Congiciòn']\n",
      "Best 20 features with:\n",
      "chi2: ['Ocupacion' 'Manutencion' 'CorreccionVisual' 'HAS' 'TNCM' 'EPOC' 'IRC'\n",
      " 'MED5' 'Depresion' 'NùmeroDeCaìdas' 'NortonAlto' 'LawtonAR' 'Charlson'\n",
      " 'IMM' 'FuerzaPrension' 'Pantorrilla' 'Demencia' 'Congiciòn' 'EVC' 'Dolor']\n",
      "F1: ['Edad' 'Escolaridad' 'EdoCivil' 'Ocupacion' 'Manutencion'\n",
      " 'CorreccionVisual' 'HAS' 'TNCM' 'MED5' 'NùmeroDeCaìdas' 'NortonAlto'\n",
      " 'LawtonAR' 'Charlson' 'IMM' 'AnguloF' 'FuerzaPrension' 'Pantorrilla'\n",
      " 'Demencia' 'Congiciòn' 'Dolor']\n",
      "Intersection:  ['Ocupacion', 'Manutencion', 'CorreccionVisual', 'HAS', 'TNCM', 'MED5', 'NùmeroDeCaìdas', 'NortonAlto', 'LawtonAR', 'Charlson', 'IMM', 'FuerzaPrension', 'Pantorrilla', 'Demencia', 'Congiciòn', 'Dolor']\n"
     ]
    }
   ],
   "source": [
    "# get 5 best features with chi2, f1 score\n",
    "print(\"Best 5 features with:\")\n",
    "X_chi2_5 = SelectKBest(chi2, k=5).fit(X, y)\n",
    "df_res_chi2_5 = pd.DataFrame(X_chi2_5.scores_, columns=[\"Score\"])\n",
    "df_res_chi2_5['p_value'] = X_chi2_5.pvalues_\n",
    "df_res_chi2_5['Feature'] = X_chi2_5.feature_names_in_\n",
    "print(df_res_chi2_5.sort_values(\"Score\", ascending=False).head(5))\n",
    "#chi2_5_names = X_chi2_5.get_feature_names_out(X.columns)\n",
    "#print(\"chi2:\", chi2_5_names)\n",
    "X_f1_5 = SelectKBest(f_classif, k=5).fit(X,y)\n",
    "f1_5_names = X_f1_5.get_feature_names_out(X.columns)\n",
    "print(\"F1:\", f1_5_names)\n",
    "intersec_5 = [i for i in chi2_5_names if i in f1_5_names]\n",
    "print(\"Intersection: \", intersec_5)\n",
    "\n",
    "\n",
    "# get 10 best features with chi2, f1 score\n",
    "print(\"Best 10 features with:\")\n",
    "X_chi2_10 = SelectKBest(chi2, k=10).fit(X, y)\n",
    "df_res_chi2_10 = pd.DataFrame(X_chi2_10.scores_, columns=[\"Score\"])\n",
    "df_res_chi2_10['p_value'] = X_chi2_10.pvalues_\n",
    "df_res_chi2_10['Feature'] = X_chi2_10.feature_names_in_\n",
    "print(df_res_chi2_10.sort_values(\"Score\", ascending=False).head(10))\n",
    "chi2_10_names = X_chi2_10.get_feature_names_out(X.columns)\n",
    "print(\"chi2:\", chi2_10_names)\n",
    "X_f1_10 = SelectKBest(f_classif, k=10).fit(X,y)\n",
    "f1_10_names = X_f1_10.get_feature_names_out(X.columns)\n",
    "print(\"F1:\", f1_10_names)\n",
    "intersec_10 = [i for i in chi2_10_names if i in f1_10_names]\n",
    "print(\"Intersection: \", intersec_10)\n",
    "\n",
    "\n",
    "# get 20 best features with chi2, f1 score\n",
    "print(\"Best 20 features with:\")\n",
    "X_chi2_20 = SelectKBest(chi2, k=20).fit(X, y)\n",
    "chi2_20_names = X_chi2_20.get_feature_names_out(X.columns)\n",
    "print(\"chi2:\", chi2_20_names)\n",
    "X_f1_20 = SelectKBest(f_classif, k=20).fit(X,y)\n",
    "f1_20_names = X_f1_20.get_feature_names_out(X.columns)\n",
    "print(\"F1:\", f1_20_names)\n",
    "intersec_20 = [i for i in chi2_20_names if i in f1_20_names]\n",
    "print(\"Intersection: \", intersec_20)"
   ]
  },
  {
   "cell_type": "code",
   "execution_count": 21,
   "id": "3f964806",
   "metadata": {
    "pycharm": {
     "name": "#%%\n"
    }
   },
   "outputs": [
    {
     "name": "stdout",
     "output_type": "stream",
     "text": [
      "Best: %f using %s (0.8533033033033032, {'C': 2, 'gamma': 'scale', 'kernel': 'rbf'})\n"
     ]
    },
    {
     "data": {
      "text/plain": "    mean_fit_time  std_fit_time  mean_score_time  std_score_time param_C  \\\n30       0.006002      0.000632         0.004400        0.000491       2   \n54       0.006602      0.000802         0.004405        0.000808      32   \n48       0.007201      0.000981         0.006402        0.002498      16   \n42       0.009003      0.002829         0.008402        0.004759       8   \n36       0.007202      0.001167         0.004801        0.000748       4   \n\n   param_gamma param_kernel                                        params  \\\n30       scale          rbf   {'C': 2, 'gamma': 'scale', 'kernel': 'rbf'}   \n54       scale          rbf  {'C': 32, 'gamma': 'scale', 'kernel': 'rbf'}   \n48       scale          rbf  {'C': 16, 'gamma': 'scale', 'kernel': 'rbf'}   \n42       scale          rbf   {'C': 8, 'gamma': 'scale', 'kernel': 'rbf'}   \n36       scale          rbf   {'C': 4, 'gamma': 'scale', 'kernel': 'rbf'}   \n\n    split0_test_score  split1_test_score  split2_test_score  \\\n30           0.891892           0.864865           0.783784   \n54           0.864865           0.918919           0.756757   \n48           0.864865           0.918919           0.756757   \n42           0.864865           0.918919           0.756757   \n36           0.864865           0.918919           0.756757   \n\n    split3_test_score  split4_test_score  mean_test_score  std_test_score  \\\n30           0.864865           0.861111         0.853303        0.036470   \n54           0.837838           0.861111         0.847898        0.052753   \n48           0.837838           0.861111         0.847898        0.052753   \n42           0.837838           0.861111         0.847898        0.052753   \n36           0.837838           0.861111         0.847898        0.052753   \n\n    rank_test_score  \n30                1  \n54                2  \n48                2  \n42                2  \n36                2  ",
      "text/html": "<div>\n<style scoped>\n    .dataframe tbody tr th:only-of-type {\n        vertical-align: middle;\n    }\n\n    .dataframe tbody tr th {\n        vertical-align: top;\n    }\n\n    .dataframe thead th {\n        text-align: right;\n    }\n</style>\n<table border=\"1\" class=\"dataframe\">\n  <thead>\n    <tr style=\"text-align: right;\">\n      <th></th>\n      <th>mean_fit_time</th>\n      <th>std_fit_time</th>\n      <th>mean_score_time</th>\n      <th>std_score_time</th>\n      <th>param_C</th>\n      <th>param_gamma</th>\n      <th>param_kernel</th>\n      <th>params</th>\n      <th>split0_test_score</th>\n      <th>split1_test_score</th>\n      <th>split2_test_score</th>\n      <th>split3_test_score</th>\n      <th>split4_test_score</th>\n      <th>mean_test_score</th>\n      <th>std_test_score</th>\n      <th>rank_test_score</th>\n    </tr>\n  </thead>\n  <tbody>\n    <tr>\n      <th>30</th>\n      <td>0.006002</td>\n      <td>0.000632</td>\n      <td>0.004400</td>\n      <td>0.000491</td>\n      <td>2</td>\n      <td>scale</td>\n      <td>rbf</td>\n      <td>{'C': 2, 'gamma': 'scale', 'kernel': 'rbf'}</td>\n      <td>0.891892</td>\n      <td>0.864865</td>\n      <td>0.783784</td>\n      <td>0.864865</td>\n      <td>0.861111</td>\n      <td>0.853303</td>\n      <td>0.036470</td>\n      <td>1</td>\n    </tr>\n    <tr>\n      <th>54</th>\n      <td>0.006602</td>\n      <td>0.000802</td>\n      <td>0.004405</td>\n      <td>0.000808</td>\n      <td>32</td>\n      <td>scale</td>\n      <td>rbf</td>\n      <td>{'C': 32, 'gamma': 'scale', 'kernel': 'rbf'}</td>\n      <td>0.864865</td>\n      <td>0.918919</td>\n      <td>0.756757</td>\n      <td>0.837838</td>\n      <td>0.861111</td>\n      <td>0.847898</td>\n      <td>0.052753</td>\n      <td>2</td>\n    </tr>\n    <tr>\n      <th>48</th>\n      <td>0.007201</td>\n      <td>0.000981</td>\n      <td>0.006402</td>\n      <td>0.002498</td>\n      <td>16</td>\n      <td>scale</td>\n      <td>rbf</td>\n      <td>{'C': 16, 'gamma': 'scale', 'kernel': 'rbf'}</td>\n      <td>0.864865</td>\n      <td>0.918919</td>\n      <td>0.756757</td>\n      <td>0.837838</td>\n      <td>0.861111</td>\n      <td>0.847898</td>\n      <td>0.052753</td>\n      <td>2</td>\n    </tr>\n    <tr>\n      <th>42</th>\n      <td>0.009003</td>\n      <td>0.002829</td>\n      <td>0.008402</td>\n      <td>0.004759</td>\n      <td>8</td>\n      <td>scale</td>\n      <td>rbf</td>\n      <td>{'C': 8, 'gamma': 'scale', 'kernel': 'rbf'}</td>\n      <td>0.864865</td>\n      <td>0.918919</td>\n      <td>0.756757</td>\n      <td>0.837838</td>\n      <td>0.861111</td>\n      <td>0.847898</td>\n      <td>0.052753</td>\n      <td>2</td>\n    </tr>\n    <tr>\n      <th>36</th>\n      <td>0.007202</td>\n      <td>0.001167</td>\n      <td>0.004801</td>\n      <td>0.000748</td>\n      <td>4</td>\n      <td>scale</td>\n      <td>rbf</td>\n      <td>{'C': 4, 'gamma': 'scale', 'kernel': 'rbf'}</td>\n      <td>0.864865</td>\n      <td>0.918919</td>\n      <td>0.756757</td>\n      <td>0.837838</td>\n      <td>0.861111</td>\n      <td>0.847898</td>\n      <td>0.052753</td>\n      <td>2</td>\n    </tr>\n  </tbody>\n</table>\n</div>"
     },
     "execution_count": 21,
     "metadata": {},
     "output_type": "execute_result"
    }
   ],
   "source": [
    "# split in hold out set and training set\n",
    "X_train, X_test, y_train, y_test = train_test_split(X, y, test_size=0.2, random_state=42)\n",
    "\n",
    "# grid search on svc\n",
    "svc = SVC()\n",
    "C = [2**i for i in range(-4,6)]\n",
    "gamma = ['scale', 'auto']\n",
    "kernel = ['rbf', 'sigmoid', 'linear']\n",
    "param_grid_svc = dict(kernel=kernel, C=C, gamma=gamma)\n",
    "grid_svc = GridSearchCV(estimator=svc, param_grid=param_grid_svc, n_jobs=-1, scoring='accuracy')\n",
    "grid_result_svc = grid_svc.fit(X_train, y_train)\n",
    "\n",
    "# evaluation of gridSearch for svc\n",
    "print('Best: %f using %s' ,(grid_result_svc.best_score_, grid_result_svc.best_params_))\n",
    "\n",
    "results_svc = pd.DataFrame(grid_result_svc.cv_results_).sort_values(by='param_C')\n",
    "results_svc.sort_values('mean_test_score', ascending=False).head()"
   ]
  },
  {
   "cell_type": "code",
   "execution_count": 22,
   "id": "2cb20a86",
   "metadata": {},
   "outputs": [
    {
     "data": {
      "text/plain": "<Figure size 1296x216 with 6 Axes>",
      "image/png": "[encoded data removed]"
     },
     "metadata": {
      "needs_background": "light"
     },
     "output_type": "display_data"
    },
    {
     "data": {
      "text/plain": "<Figure size 432x288 with 0 Axes>"
     },
     "metadata": {},
     "output_type": "display_data"
    },
    {
     "data": {
      "text/plain": "<Figure size 432x288 with 0 Axes>"
     },
     "metadata": {},
     "output_type": "display_data"
    },
    {
     "data": {
      "text/plain": "<Figure size 432x288 with 0 Axes>"
     },
     "metadata": {},
     "output_type": "display_data"
    }
   ],
   "source": [
    "# generating heatmaps of paramter grid for svc\n",
    "fig, (ax1, ax2, ax3) = plt.subplots(1,3, figsize=(18,3), sharex=True, sharey=True)\n",
    "hm1 = results_svc[results_svc['param_kernel']=='rbf'][['param_gamma', 'param_C', 'mean_test_score']]\n",
    "hm1 = hm1.pivot('param_gamma', 'param_C', 'mean_test_score')\n",
    "plt.figure()\n",
    "heat_map1 = sns.heatmap(hm1, linewidth=1, annot=True, cmap='BuPu', vmax=grid_result_svc.best_score_, vmin=0.67, ax=ax1)\n",
    "ax1.set_title('Kernel = RBF')\n",
    "ax1.set_ylabel('Gamma')\n",
    "ax1.set_xlabel('C')\n",
    "\n",
    "hm2 = results_svc[results_svc['param_kernel']=='sigmoid'][['param_gamma', 'param_C', 'mean_test_score']]\n",
    "hm2 = hm2.pivot('param_gamma', 'param_C', 'mean_test_score')\n",
    "plt.figure()\n",
    "heat_map2 = sns.heatmap(hm2, linewidth=1, annot=True, cmap='BuPu', vmax=grid_result_svc.best_score_, vmin=0.67, ax=ax2)\n",
    "ax2.set_title('Kernel = Sigmoid')\n",
    "ax2.set_ylabel('Gamma')\n",
    "ax2.set_xlabel('C')\n",
    "\n",
    "hm3 = results_svc[results_svc['param_kernel']=='linear'][['param_gamma', 'param_C', 'mean_test_score']]\n",
    "hm3 = hm3.pivot('param_gamma', 'param_C', 'mean_test_score')\n",
    "plt.figure()\n",
    "heat_map3 = sns.heatmap(hm3, linewidth=1, annot=True, cmap='BuPu', vmax=grid_result_svc.best_score_, vmin=0.67, ax=ax3)\n",
    "ax3.set_title('Kernel = linear')\n",
    "ax3.set_ylabel('Gamma')\n",
    "ax3.set_xlabel('C')\n",
    "\n",
    "fig.tight_layout()\n",
    "plt.show()"
   ]
  },
  {
   "cell_type": "code",
   "execution_count": 25,
   "id": "60c25e81",
   "metadata": {},
   "outputs": [
    {
     "name": "stdout",
     "output_type": "stream",
     "text": [
      "Best: %f using %s (0.8533033033033032, {'C': 2, 'gamma': 'scale', 'kernel': 'rbf'})\n"
     ]
    },
    {
     "data": {
      "text/plain": "    mean_fit_time  std_fit_time  mean_score_time  std_score_time param_C  \\\n30       0.005201      0.001327         0.003001        0.000895       2   \n54       0.005200      0.000749         0.003002        0.000632      32   \n48       0.005402      0.000490         0.002800        0.000400      16   \n42       0.005801      0.000749         0.004001        0.001414       8   \n36       0.005801      0.000749         0.004001        0.000633       4   \n\n   param_gamma param_kernel                                        params  \\\n30       scale          rbf   {'C': 2, 'gamma': 'scale', 'kernel': 'rbf'}   \n54       scale          rbf  {'C': 32, 'gamma': 'scale', 'kernel': 'rbf'}   \n48       scale          rbf  {'C': 16, 'gamma': 'scale', 'kernel': 'rbf'}   \n42       scale          rbf   {'C': 8, 'gamma': 'scale', 'kernel': 'rbf'}   \n36       scale          rbf   {'C': 4, 'gamma': 'scale', 'kernel': 'rbf'}   \n\n    split0_test_score  split1_test_score  split2_test_score  \\\n30           0.891892           0.864865           0.783784   \n54           0.864865           0.918919           0.756757   \n48           0.864865           0.918919           0.756757   \n42           0.864865           0.918919           0.756757   \n36           0.864865           0.918919           0.756757   \n\n    split3_test_score  split4_test_score  mean_test_score  std_test_score  \\\n30           0.864865           0.861111         0.853303        0.036470   \n54           0.837838           0.861111         0.847898        0.052753   \n48           0.837838           0.861111         0.847898        0.052753   \n42           0.837838           0.861111         0.847898        0.052753   \n36           0.837838           0.861111         0.847898        0.052753   \n\n    rank_test_score  \n30                1  \n54                2  \n48                2  \n42                2  \n36                2  ",
      "text/html": "<div>\n<style scoped>\n    .dataframe tbody tr th:only-of-type {\n        vertical-align: middle;\n    }\n\n    .dataframe tbody tr th {\n        vertical-align: top;\n    }\n\n    .dataframe thead th {\n        text-align: right;\n    }\n</style>\n<table border=\"1\" class=\"dataframe\">\n  <thead>\n    <tr style=\"text-align: right;\">\n      <th></th>\n      <th>mean_fit_time</th>\n      <th>std_fit_time</th>\n      <th>mean_score_time</th>\n      <th>std_score_time</th>\n      <th>param_C</th>\n      <th>param_gamma</th>\n      <th>param_kernel</th>\n      <th>params</th>\n      <th>split0_test_score</th>\n      <th>split1_test_score</th>\n      <th>split2_test_score</th>\n      <th>split3_test_score</th>\n      <th>split4_test_score</th>\n      <th>mean_test_score</th>\n      <th>std_test_score</th>\n      <th>rank_test_score</th>\n    </tr>\n  </thead>\n  <tbody>\n    <tr>\n      <th>30</th>\n      <td>0.005201</td>\n      <td>0.001327</td>\n      <td>0.003001</td>\n      <td>0.000895</td>\n      <td>2</td>\n      <td>scale</td>\n      <td>rbf</td>\n      <td>{'C': 2, 'gamma': 'scale', 'kernel': 'rbf'}</td>\n      <td>0.891892</td>\n      <td>0.864865</td>\n      <td>0.783784</td>\n      <td>0.864865</td>\n      <td>0.861111</td>\n      <td>0.853303</td>\n      <td>0.036470</td>\n      <td>1</td>\n    </tr>\n    <tr>\n      <th>54</th>\n      <td>0.005200</td>\n      <td>0.000749</td>\n      <td>0.003002</td>\n      <td>0.000632</td>\n      <td>32</td>\n      <td>scale</td>\n      <td>rbf</td>\n      <td>{'C': 32, 'gamma': 'scale', 'kernel': 'rbf'}</td>\n      <td>0.864865</td>\n      <td>0.918919</td>\n      <td>0.756757</td>\n      <td>0.837838</td>\n      <td>0.861111</td>\n      <td>0.847898</td>\n      <td>0.052753</td>\n      <td>2</td>\n    </tr>\n    <tr>\n      <th>48</th>\n      <td>0.005402</td>\n      <td>0.000490</td>\n      <td>0.002800</td>\n      <td>0.000400</td>\n      <td>16</td>\n      <td>scale</td>\n      <td>rbf</td>\n      <td>{'C': 16, 'gamma': 'scale', 'kernel': 'rbf'}</td>\n      <td>0.864865</td>\n      <td>0.918919</td>\n      <td>0.756757</td>\n      <td>0.837838</td>\n      <td>0.861111</td>\n      <td>0.847898</td>\n      <td>0.052753</td>\n      <td>2</td>\n    </tr>\n    <tr>\n      <th>42</th>\n      <td>0.005801</td>\n      <td>0.000749</td>\n      <td>0.004001</td>\n      <td>0.001414</td>\n      <td>8</td>\n      <td>scale</td>\n      <td>rbf</td>\n      <td>{'C': 8, 'gamma': 'scale', 'kernel': 'rbf'}</td>\n      <td>0.864865</td>\n      <td>0.918919</td>\n      <td>0.756757</td>\n      <td>0.837838</td>\n      <td>0.861111</td>\n      <td>0.847898</td>\n      <td>0.052753</td>\n      <td>2</td>\n    </tr>\n    <tr>\n      <th>36</th>\n      <td>0.005801</td>\n      <td>0.000749</td>\n      <td>0.004001</td>\n      <td>0.000633</td>\n      <td>4</td>\n      <td>scale</td>\n      <td>rbf</td>\n      <td>{'C': 4, 'gamma': 'scale', 'kernel': 'rbf'}</td>\n      <td>0.864865</td>\n      <td>0.918919</td>\n      <td>0.756757</td>\n      <td>0.837838</td>\n      <td>0.861111</td>\n      <td>0.847898</td>\n      <td>0.052753</td>\n      <td>2</td>\n    </tr>\n  </tbody>\n</table>\n</div>"
     },
     "execution_count": 25,
     "metadata": {},
     "output_type": "execute_result"
    }
   ],
   "source": [
    "# grid search on svc\n",
    "rf = RandomForestClassifier()\n",
    "n_estimators = [i*10**i for i in range(6)]\n",
    "criterion = ['gini', 'entropy']\n",
    "max_depth = [i for i in range(2, len(X.columns)//2, 2)]\n",
    "param_grid_svc = dict(kernel=kernel, C=C, gamma=gamma)\n",
    "grid_svc = GridSearchCV(estimator=svc, param_grid=param_grid_svc, n_jobs=-1, scoring='accuracy')\n",
    "grid_result_svc = grid_svc.fit(X_train, y_train)\n",
    "\n",
    "# evaluation of gridSearch for svc\n",
    "print('Best: %f using %s' ,(grid_result_svc.best_score_, grid_result_svc.best_params_))\n",
    "\n",
    "results_svc = pd.DataFrame(grid_result_svc.cv_results_).sort_values(by='param_C')\n",
    "results_svc.sort_values('mean_test_score', ascending=False).head()"
   ]
  },
  {
   "cell_type": "code",
   "execution_count": null,
   "id": "98db862d",
   "metadata": {},
   "outputs": [],
   "source": []
  }
 ],
 "metadata": {
  "kernelspec": {
   "display_name": "Python 3 (ipykernel)",
   "language": "python",
   "name": "python3"
  },
  "language_info": {
   "codemirror_mode": {
    "name": "ipython",
    "version": 3
   },
   "file_extension": ".py",
   "mimetype": "text/x-python",
   "name": "python",
   "nbconvert_exporter": "python",
   "pygments_lexer": "ipython3",
   "version": "3.8.12"
  }
 },
 "nbformat": 4,
 "nbformat_minor": 5
}