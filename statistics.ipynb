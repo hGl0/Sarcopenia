{
 "cells": [
  {
   "cell_type": "code",
   "execution_count": 1,
   "id": "b90839aa",
   "metadata": {},
   "outputs": [],
   "source": [
    "# load important modules\n",
    "import random\n",
    "import matplotlib.pyplot as plt\n",
    "import pandas as pd\n",
    "import numpy as np\n",
    "\n",
    "from sklearn.feature_selection import VarianceThreshold, SelectKBest, chi2, f_classif\n",
    "from sklearn.model_selection import train_test_split\n",
    "from sklearn.preprocessing import MinMaxScaler\n",
    "\n",
    "%matplotlib inline\n",
    "\n",
    "# ignore warnings\n",
    "import warnings\n",
    "warnings.filterwarnings('ignore')"
   ]
  },
  {
   "cell_type": "code",
   "execution_count": 2,
   "id": "07dab463",
   "metadata": {},
   "outputs": [
    {
     "name": "stdout",
     "output_type": "stream",
     "text": [
      "shape: (233, 84)\n",
      "\"Misses\" in:\n",
      "<class 'pandas.core.frame.DataFrame'>\n",
      "Int64Index: 233 entries, 0 to 249\n",
      "Data columns (total 2 columns):\n",
      " #   Column  Non-Null Count  Dtype  \n",
      "---  ------  --------------  -----  \n",
      " 0   Marcha  231 non-null    float64\n",
      " 1   Hb      232 non-null    float64\n",
      "dtypes: float64(2)\n",
      "memory usage: 5.5 KB\n",
      "None\n",
      "Indexes of rows with misses: Int64Index([24, 191, 210], dtype='int64')\n"
     ]
    }
   ],
   "source": [
    "# load dataset\n",
    "data = pd.DataFrame(pd.read_excel('data/sarcopenia.xlsx'))\n",
    "\n",
    "# drop duplicated rows\n",
    "data.drop(data[data.drop(\"Folio\", axis=1).duplicated()].index, inplace=True)\n",
    "\n",
    "# Genero 1: male, 2: female => change to 0: male, 1: female\n",
    "# SI: 1, NO: 2 => change to NO: 0, YES: 1\n",
    "data['Genero'] = data['Genero'].replace({1: 0, 2: 1})\n",
    "\n",
    "# overview of data\n",
    "print(\"shape:\", data.shape)\n",
    "print(\"\\\"Misses\\\" in:\")\n",
    "print(data.loc[:,data.isna().any()].info())\n",
    "print(\"Indexes of rows with misses:\", data[data.isna().any(axis=1)].index)\n",
    "\n",
    "#print(data['Marcha'].value_counts(dropna=False).sort_index())\n",
    "#print(data['Hb'].value_counts(dropna=False).sort_index())\n",
    "#print(\"Columns:\\n\",data.columns)\n",
    "#data.describe()\n",
    "\n",
    "# HB: meaning of 0? Guess 0 = NaN\n",
    "data['Hb'].fillna(0, inplace=True)\n",
    "# treating nans8\n",
    "# Marcha: meaning of 0? If 0 = NaN: 8 NaN can be imputed with mean\n",
    "data['Marcha'].fillna(data['Marcha'].mean(), inplace=True)\n",
    "data['Marcha'] = data['Marcha'].replace({0:data['Marcha'].mean()})\n",
    "\n",
    "\n",
    "# Change encoding, so that 0 always equals ninguno/-a or regular, depending on the scale\n",
    "data['Cuidador'].replace({6 : 0}, inplace=True)\n",
    "data['Letrado'].replace({3 : 0}, inplace=True)\n",
    "data['Religiòn'].replace({5 : 0}, inplace=True)\n",
    "data['Economìa'].replace({2 : 0, 3 : -1}, inplace=True)\n",
    "data['Ocupacion'].replace({1: 0, 2:1, 3:2, 4:3}, inplace=True)\n",
    "data['Manutencion'].replace({5 : 0}, inplace=True)\n",
    "data['Visiòn'].replace({1:2, 2:1, 3:0, 4:-1, 5:-2}, inplace=True)\n",
    "data['Audiciòn'].replace({1:2, 2:1, 3:0, 4:-1, 5:-2}, inplace=True)\n",
    "data['CorreccionVisual'].replace({1:3, 3:1, 4:-1, 5:-2}, inplace=True)\n",
    "data['CorreccionAuditiva'].replace({1:3, 3:1, 4:-1, 5:-2}, inplace=True)\n",
    "data['Tabaquismo'].replace({1:0, 2:1, 3:-1}, inplace=True)\n",
    "data['Alcoholismo'].replace({1:0, 2:1, 3:-1}, inplace=True)\n",
    "data['Drogas'].replace({1:0, 2:1, 3:-1}, inplace=True)"
   ]
  },
  {
   "cell_type": "code",
   "execution_count": 3,
   "id": "5a5f0e57",
   "metadata": {},
   "outputs": [],
   "source": [
    "# usefull functions and declaration of variables which will be used later\n",
    "drop_col = []\n",
    "\n",
    "# drop features stored as strings in feats from dataframe df\n",
    "def drop_feat(df, feats):\n",
    "    for feature in feats:\n",
    "        if feature in df.columns: df.drop(feature, axis=1, inplace=True)\n",
    "    return df\n",
    "\n",
    "# get name of all binary features from dataframe df\n",
    "# returns array with names\n",
    "def get_binary_features(df):\n",
    "    return [feature for feature in df.columns \n",
    "     if len(data[feature].value_counts()) <= 2]"
   ]
  },
  {
   "cell_type": "code",
   "execution_count": 4,
   "id": "1b678bcc",
   "metadata": {},
   "outputs": [],
   "source": [
    "#### Remarks about encoding and features ####\n",
    "# Charlson (2-10) : Not in excel, no understanding of meaning\n",
    "# MM & IMM Meaning?\n",
    "# FuerzaPrension => not binary, in excel as binary (https://pubmed.ncbi.nlm.nih.gov/21624928/)\n",
    "# GDS (0-5): Meaning/Encoding unclear, not in excel\n",
    "\n",
    "#### NANs for every feature ####\n",
    "# MMSE : 0 = none? : 7 cases (exel says below 14 DETERIORO GRAVE)\n",
    "# GDS : not in exel, none = 0 in 60 cases?\n",
    "# Barthel : encoding of excel does not match encoding in data\n",
    "# Norton : encoding of excel does not match encoding in data\n",
    "# Lawton : encoding of excel does not match encoding in data\n",
    "# MNA : encoding of excel does not match encoding in data\n",
    "# Hb: none = 0 : 130 cases\n",
    "# urea: none = 0 : 144 cases\n",
    "# Creatina: none = 0 : 128 cases\n",
    "# Albumina: none = 0 : 188 cases\n",
    "# Glucosa: none = 0 : 121 cases\n",
    "# Sodio: none = 0 : 154 cases\n",
    "\n",
    "# Charlson, IMM, MM, GDS, FuerzaPrension"
   ]
  },
  {
   "cell_type": "code",
   "execution_count": 5,
   "outputs": [
    {
     "name": "stdout",
     "output_type": "stream",
     "text": [
      "Binary features with too low variance:\n",
      " ['MMSEx', 'MMSE', 'Barthel', 'BarthelX', 'NortonX', 'Norton', 'Lawton', 'LawtonX', 'MNAx', 'MNA', 'MM', 'Folio', 'OSTEOP', 'GASTRITIS', 'HIPOTIROIDISMO', 'HIPERTENSION', 'CANCER', 'InsfHepatica', 'Ùlceras', 'Infecciòn']\n",
      "To drop because of low variance or entropy:\n",
      " ['MMSEx', 'MMSE', 'Barthel', 'BarthelX', 'NortonX', 'Norton', 'Lawton', 'LawtonX', 'MNAx', 'MNA', 'MM', 'Folio', 'OSTEOP', 'GASTRITIS', 'HIPOTIROIDISMO', 'HIPERTENSION', 'CANCER', 'InsfHepatica', 'Ùlceras', 'Infecciòn', 'Residencia', 'CorreccionAuditiva', 'MED9', 'MED10']\n"
     ]
    }
   ],
   "source": [
    "# drop (marked yellow in dataset), results in binary attributs\n",
    "drop_col.extend(['MMSEx', 'MMSE', 'Barthel', 'BarthelX', 'NortonX', 'Norton',\n",
    "                 'Lawton', 'LawtonX', 'MNAx', 'MNA', 'MM'])\n",
    "\n",
    "# Folio = ID = index+1: no information\n",
    "if \"Folio\" not in drop_col: drop_col.append(\"Folio\")\n",
    "\n",
    "data = drop_feat(data, drop_col)\n",
    "\n",
    "# get all binary features\n",
    "binary_features = get_binary_features(data)\n",
    "data[binary_features[1:]] = data[binary_features[1:]].replace({2:0})\n",
    "\n",
    "# apply variance threshold for binary\n",
    "sel_bin = VarianceThreshold(threshold=(0.90*(1-0.90)))\n",
    "sel_bin.fit_transform(data[binary_features])\n",
    "mask = sel_bin.get_support()\n",
    "\n",
    "for i in range(len(binary_features)):\n",
    "        if not mask[i] and binary_features[i] not in drop_col: drop_col.append(binary_features[i])\n",
    "\n",
    "print(\"Binary features with too low variance:\\n\", drop_col)\n",
    "\n",
    "# get features which are not binary and have at least 95% of the same value\n",
    "for i in data.columns:\n",
    "    if (i not in binary_features) and (i not in drop_col) and (data[i].value_counts(dropna=False).tolist()[0] > 0.9*data.shape[0]):\n",
    "        drop_col.append(i)\n",
    "\n",
    "print(\"To drop because of low variance or entropy:\\n\", drop_col)\n",
    "# categorical features: \n",
    "# Escolaridad (0-16), Letrado (1-3), EdoCivil (1-5), Cuidador (1-6), \n",
    "# Religion (1-5), Residencia (1-5), Ocupacion(1-4), Economia (1-3),\n",
    "# Manutencion (1-5), Vision (1-3/1-5), CorreccionVisual (0-5), \n",
    "# Audicion (1-3/1-4), CorreccionAuditiva (0-4), MED1, MED2, MED3, MED4,\n",
    "# MED5, MED6, MED7, MED8, MED9, MED10, Tabaquismo (1-3), Alcoholismo (1-3)\n",
    "# Drogas (1-3)\n",
    "\n",
    "# continous feature, which are encoded as categoricals/binary: => delete 2 versions?\n",
    "# MMSE/MMSEx/MMSEcodif, Barthel/BarthelX/BarthelAR, Norton/NortonX/NortonAlto, Lawton/LawtonX, MNA/MNAx\n",
    "\n",
    "\n",
    "# LawtonAR: check relation to LawtonX, maybe some errors?\n",
    "#print(pd.crosstab(data['LawtonX'], data['LawtonAR'], margins='all'))\n",
    "# MNAAR: check realtion to MNAx, maybe some errors?\n",
    "#print(pd.crosstab(data['MNAx'], data['MNAAR'], margins='all'))\n",
    "#print(str(data[(data['LawtonAR']==0) & (data['LawtonX'] == 3)].index)\n",
    "#      +\"\\n\"+\n",
    "#      str(data[(data['LawtonAR']==1) & (data['LawtonX']==5)].index)\n",
    "#      +\"\\n\"+\n",
    "#     str(data[(data['MNAAR']==0) & (data['MNAx'] == 3)].index))"
   ],
   "metadata": {
    "collapsed": false,
    "pycharm": {
     "name": "#%%\n"
    }
   }
  },
  {
   "cell_type": "code",
   "execution_count": 6,
   "id": "619a5bad",
   "metadata": {},
   "outputs": [
    {
     "name": "stdout",
     "output_type": "stream",
     "text": [
      "High Pearson Correlation:  [('OA', 'Visiòn', -0.7196685712522948), ('NùmeroDeCaìdas', 'Caìdas', 0.7030366149456374), ('Creatinina', 'Urea', 0.7994116738931769), ('Glucosa', 'Hb', 0.7812125936635224), ('Glucosa', 'Urea', 0.721906997873541), ('Glucosa', 'Creatinina', 0.7934611572233724), ('Sodio', 'Urea', 0.7343328170353899)]\n",
      "High Spearman Correlation:  [('OA', 'Visiòn', -0.767579938948238), ('MED8', 'MED7', 0.7610229016320863), ('Drogas', 'Visiòn', -0.7012526441807251), ('NùmeroDeCaìdas', 'Caìdas', 0.9457066390799906), ('Creatinina', 'Urea', 0.792018911952844), ('Glucosa', 'Hb', 0.7404099543937226), ('Glucosa', 'Urea', 0.7283005989336238), ('Glucosa', 'Creatinina', 0.7889877926030032), ('Sodio', 'Urea', 0.7778092439720753)]\n",
      "High Kendall Correlation:  [('OA', 'Visiòn', -0.7000899413156257), ('NùmeroDeCaìdas', 'Caìdas', 0.8766335417280183)]\n"
     ]
    }
   ],
   "source": [
    "data = drop_feat(data, drop_col)\n",
    "\n",
    "# get correlation matrix\n",
    "corr_spear = data.corr('spearman')\n",
    "corr_pearson = data.corr('pearson')\n",
    "corr_kendall = data.corr('kendall')\n",
    "\n",
    "# get features with strong relation in medicine/psychology\n",
    "# https://www.ncbi.nlm.nih.gov/pmc/articles/PMC6107969/\n",
    "high_pearson = [] # 0.7 to 1.0\n",
    "high_spear = []\n",
    "high_kendall = []\n",
    "for i in range(data.shape[1]):\n",
    "    for j in range(i):\n",
    "        pearson_corr = np.abs(corr_pearson.iloc[i,j])\n",
    "        spearman_corr = np.abs(corr_spear.iloc[i,j])\n",
    "        kendall_corr = np.abs(corr_kendall.iloc[i,j])\n",
    "        if 0.7 <= pearson_corr:\n",
    "            high_pearson.append((corr_pearson.columns[i], corr_pearson.columns[j], corr_pearson.iloc[i][j]))\n",
    "        if 0.7 <= spearman_corr:\n",
    "            high_spear.append((corr_spear.columns[i], corr_spear.columns[j], corr_spear.iloc[i][j]))\n",
    "        if 0.7 <= kendall_corr:\n",
    "            high_kendall.append((corr_kendall.columns[i], corr_kendall.columns[j], corr_kendall.iloc[i][j]))\n",
    "\n",
    "\n",
    "#high_corr = []\n",
    "#for p in high_pearson:\n",
    "#    if p in high_kendall and p in high_spear:\n",
    "#        high_corr.append(p)\n",
    "\n",
    "#print(\"spearman correlation\")\n",
    "#print(pd.DataFrame(high_spear))\n",
    "#print('kendall correlation')\n",
    "#print(pd.DataFrame(high_kendall))\n",
    "#print('pearson correlation')\n",
    "#print(pd.DataFrame(high_pearson))\n",
    "#corr.dropna(how='all').T.dropna(how='all').style.background_gradient('RdBu', vmax=1, vmin=-1)\n",
    "\n",
    "# try building model from 3 features by definition\n",
    "\n",
    "print(\"High Pearson Correlation: \", high_pearson)\n",
    "print(\"High Spearman Correlation: \", high_spear)\n",
    "print(\"High Kendall Correlation: \", high_kendall)"
   ]
  },
  {
   "cell_type": "code",
   "execution_count": 7,
   "id": "b7d7d520",
   "metadata": {
    "pycharm": {
     "name": "#%%\n"
    }
   },
   "outputs": [
    {
     "name": "stdout",
     "output_type": "stream",
     "text": [
      "(231, 53)\n"
     ]
    }
   ],
   "source": [
    "# add features with high correlation to drop_col\n",
    "#for pair in high_pearson:\n",
    "#    if pair[0] == 'IMM' and pair[1] not in drop_col:\n",
    "#        drop_col.append(pair[1])\n",
    "#        continue\n",
    "#    if pair[0] in drop_col or pair[1] in drop_col:\n",
    "#        continue\n",
    "#    if pair[0] not in drop_col: drop_col.append(pair[0])\n",
    "#for pair in high_kendall:\n",
    "#    if pair[0] == 'IMM' and pair[1] not in drop_col:\n",
    "#        drop_col.append(pair[1])\n",
    "#        continue\n",
    "#    if pair[0] in drop_col or pair[1] in drop_col:\n",
    "#        continue\n",
    "#    if pair[0] not in drop_col: drop_col.append(pair[0])\n",
    "#for pair in high_spear:\n",
    "#    if pair[0] == 'IMM' and pair[1] not in drop_col:\n",
    "#        drop_col.append(pair[1])\n",
    "#        continue\n",
    "#    if pair[0] in drop_col or pair[1] in drop_col:\n",
    "#        continue\n",
    "#    if pair[0] not in drop_col: drop_col.append(pair[0])\n",
    "\n",
    "# drop unnecessary features\n",
    "\n",
    "# idealise dataset by dropping every column which contains misses:\n",
    "drop_col.extend(['Hb', 'Urea', 'Creatinina', 'Albumina', 'Glucosa', 'Sodio'])\n",
    "drop_col.extend(['Caìdas']) # included in Numero de Caidas\n",
    "idel_data = drop_feat(data, drop_col)\n",
    "# drop duplicates in idealised dataset\n",
    "idel_data.drop(idel_data[idel_data.duplicated()].index, inplace=True)\n",
    "#idel_data.drop(data.duplicated())\n",
    "print(idel_data.shape)"
   ]
  },
  {
   "cell_type": "code",
   "execution_count": 8,
   "outputs": [],
   "source": [
    "#for i in idel_data.columns:\n",
    "#    print(idel_data[i].value_counts())"
   ],
   "metadata": {
    "collapsed": false,
    "pycharm": {
     "name": "#%%\n"
    }
   }
  },
  {
   "cell_type": "code",
   "execution_count": 26,
   "outputs": [
    {
     "data": {
      "text/plain": "          Genero       Edad  Escolaridad    Letrado   EdoCivil   Cuidador  \\\ncount  42.000000  42.000000    42.000000  42.000000  42.000000  42.000000   \nmean    0.690476  81.452381     4.666667   1.142857   2.785714   2.452381   \nstd     0.467901   7.322542     4.159425   0.521322   1.279019   1.810570   \nmin     0.000000  69.000000     0.000000   0.000000   1.000000   0.000000   \n25%     0.000000  76.750000     0.250000   1.000000   2.000000   1.000000   \n50%     1.000000  81.000000     3.500000   1.000000   3.000000   2.000000   \n75%     1.000000  85.750000     6.750000   1.000000   3.000000   4.000000   \nmax     1.000000  95.000000    12.000000   2.000000   5.000000   5.000000   \n\n        Religiòn  Ocupacion   Economìa  Manutencion  ...        IMM  \\\ncount  42.000000  42.000000  42.000000    42.000000  ...  42.000000   \nmean    1.095238   0.833333  -0.142857     2.095238  ...   6.692857   \nstd     0.297102   0.762431   0.354169     1.649974  ...   1.786212   \nmin     1.000000   0.000000  -1.000000     0.000000  ...   4.950000   \n25%     1.000000   0.000000   0.000000     1.000000  ...   5.310000   \n50%     1.000000   1.000000   0.000000     1.000000  ...   5.910000   \n75%     1.000000   1.000000   0.000000     4.000000  ...   8.177500   \nmax     2.000000   3.000000   0.000000     4.000000  ...  12.130000   \n\n         AnguloF  FuerzaPrension  Pantorrilla     Marcha  Sarcopenia  \\\ncount  42.000000       42.000000    42.000000  42.000000        42.0   \nmean    4.661905        0.261905    30.692857   0.713600         1.0   \nstd     1.256001        0.445001     3.323119   0.335751         0.0   \nmin     3.500000        0.000000    25.500000   0.053000         1.0   \n25%     3.900000        0.000000    28.250000   0.510000         1.0   \n50%     4.200000        0.000000    30.000000   0.670000         1.0   \n75%     5.250000        0.750000    33.000000   0.965000         1.0   \nmax     8.500000        1.000000    39.000000   1.560000         1.0   \n\n        Demencia  Congiciòn        EVC      Dolor  \ncount  42.000000  42.000000  42.000000  42.000000  \nmean    0.404762   0.690476   0.190476   0.238095  \nstd     0.496796   0.467901   0.397437   0.431081  \nmin     0.000000   0.000000   0.000000   0.000000  \n25%     0.000000   0.000000   0.000000   0.000000  \n50%     0.000000   1.000000   0.000000   0.000000  \n75%     1.000000   1.000000   0.000000   0.000000  \nmax     1.000000   1.000000   1.000000   1.000000  \n\n[8 rows x 53 columns]",
      "text/html": "<div>\n<style scoped>\n    .dataframe tbody tr th:only-of-type {\n        vertical-align: middle;\n    }\n\n    .dataframe tbody tr th {\n        vertical-align: top;\n    }\n\n    .dataframe thead th {\n        text-align: right;\n    }\n</style>\n<table border=\"1\" class=\"dataframe\">\n  <thead>\n    <tr style=\"text-align: right;\">\n      <th></th>\n      <th>Genero</th>\n      <th>Edad</th>\n      <th>Escolaridad</th>\n      <th>Letrado</th>\n      <th>EdoCivil</th>\n      <th>Cuidador</th>\n      <th>Religiòn</th>\n      <th>Ocupacion</th>\n      <th>Economìa</th>\n      <th>Manutencion</th>\n      <th>...</th>\n      <th>IMM</th>\n      <th>AnguloF</th>\n      <th>FuerzaPrension</th>\n      <th>Pantorrilla</th>\n      <th>Marcha</th>\n      <th>Sarcopenia</th>\n      <th>Demencia</th>\n      <th>Congiciòn</th>\n      <th>EVC</th>\n      <th>Dolor</th>\n    </tr>\n  </thead>\n  <tbody>\n    <tr>\n      <th>count</th>\n      <td>42.000000</td>\n      <td>42.000000</td>\n      <td>42.000000</td>\n      <td>42.000000</td>\n      <td>42.000000</td>\n      <td>42.000000</td>\n      <td>42.000000</td>\n      <td>42.000000</td>\n      <td>42.000000</td>\n      <td>42.000000</td>\n      <td>...</td>\n      <td>42.000000</td>\n      <td>42.000000</td>\n      <td>42.000000</td>\n      <td>42.000000</td>\n      <td>42.000000</td>\n      <td>42.0</td>\n      <td>42.000000</td>\n      <td>42.000000</td>\n      <td>42.000000</td>\n      <td>42.000000</td>\n    </tr>\n    <tr>\n      <th>mean</th>\n      <td>0.690476</td>\n      <td>81.452381</td>\n      <td>4.666667</td>\n      <td>1.142857</td>\n      <td>2.785714</td>\n      <td>2.452381</td>\n      <td>1.095238</td>\n      <td>0.833333</td>\n      <td>-0.142857</td>\n      <td>2.095238</td>\n      <td>...</td>\n      <td>6.692857</td>\n      <td>4.661905</td>\n      <td>0.261905</td>\n      <td>30.692857</td>\n      <td>0.713600</td>\n      <td>1.0</td>\n      <td>0.404762</td>\n      <td>0.690476</td>\n      <td>0.190476</td>\n      <td>0.238095</td>\n    </tr>\n    <tr>\n      <th>std</th>\n      <td>0.467901</td>\n      <td>7.322542</td>\n      <td>4.159425</td>\n      <td>0.521322</td>\n      <td>1.279019</td>\n      <td>1.810570</td>\n      <td>0.297102</td>\n      <td>0.762431</td>\n      <td>0.354169</td>\n      <td>1.649974</td>\n      <td>...</td>\n      <td>1.786212</td>\n      <td>1.256001</td>\n      <td>0.445001</td>\n      <td>3.323119</td>\n      <td>0.335751</td>\n      <td>0.0</td>\n      <td>0.496796</td>\n      <td>0.467901</td>\n      <td>0.397437</td>\n      <td>0.431081</td>\n    </tr>\n    <tr>\n      <th>min</th>\n      <td>0.000000</td>\n      <td>69.000000</td>\n      <td>0.000000</td>\n      <td>0.000000</td>\n      <td>1.000000</td>\n      <td>0.000000</td>\n      <td>1.000000</td>\n      <td>0.000000</td>\n      <td>-1.000000</td>\n      <td>0.000000</td>\n      <td>...</td>\n      <td>4.950000</td>\n      <td>3.500000</td>\n      <td>0.000000</td>\n      <td>25.500000</td>\n      <td>0.053000</td>\n      <td>1.0</td>\n      <td>0.000000</td>\n      <td>0.000000</td>\n      <td>0.000000</td>\n      <td>0.000000</td>\n    </tr>\n    <tr>\n      <th>25%</th>\n      <td>0.000000</td>\n      <td>76.750000</td>\n      <td>0.250000</td>\n      <td>1.000000</td>\n      <td>2.000000</td>\n      <td>1.000000</td>\n      <td>1.000000</td>\n      <td>0.000000</td>\n      <td>0.000000</td>\n      <td>1.000000</td>\n      <td>...</td>\n      <td>5.310000</td>\n      <td>3.900000</td>\n      <td>0.000000</td>\n      <td>28.250000</td>\n      <td>0.510000</td>\n      <td>1.0</td>\n      <td>0.000000</td>\n      <td>0.000000</td>\n      <td>0.000000</td>\n      <td>0.000000</td>\n    </tr>\n    <tr>\n      <th>50%</th>\n      <td>1.000000</td>\n      <td>81.000000</td>\n      <td>3.500000</td>\n      <td>1.000000</td>\n      <td>3.000000</td>\n      <td>2.000000</td>\n      <td>1.000000</td>\n      <td>1.000000</td>\n      <td>0.000000</td>\n      <td>1.000000</td>\n      <td>...</td>\n      <td>5.910000</td>\n      <td>4.200000</td>\n      <td>0.000000</td>\n      <td>30.000000</td>\n      <td>0.670000</td>\n      <td>1.0</td>\n      <td>0.000000</td>\n      <td>1.000000</td>\n      <td>0.000000</td>\n      <td>0.000000</td>\n    </tr>\n    <tr>\n      <th>75%</th>\n      <td>1.000000</td>\n      <td>85.750000</td>\n      <td>6.750000</td>\n      <td>1.000000</td>\n      <td>3.000000</td>\n      <td>4.000000</td>\n      <td>1.000000</td>\n      <td>1.000000</td>\n      <td>0.000000</td>\n      <td>4.000000</td>\n      <td>...</td>\n      <td>8.177500</td>\n      <td>5.250000</td>\n      <td>0.750000</td>\n      <td>33.000000</td>\n      <td>0.965000</td>\n      <td>1.0</td>\n      <td>1.000000</td>\n      <td>1.000000</td>\n      <td>0.000000</td>\n      <td>0.000000</td>\n    </tr>\n    <tr>\n      <th>max</th>\n      <td>1.000000</td>\n      <td>95.000000</td>\n      <td>12.000000</td>\n      <td>2.000000</td>\n      <td>5.000000</td>\n      <td>5.000000</td>\n      <td>2.000000</td>\n      <td>3.000000</td>\n      <td>0.000000</td>\n      <td>4.000000</td>\n      <td>...</td>\n      <td>12.130000</td>\n      <td>8.500000</td>\n      <td>1.000000</td>\n      <td>39.000000</td>\n      <td>1.560000</td>\n      <td>1.0</td>\n      <td>1.000000</td>\n      <td>1.000000</td>\n      <td>1.000000</td>\n      <td>1.000000</td>\n    </tr>\n  </tbody>\n</table>\n<p>8 rows × 53 columns</p>\n</div>"
     },
     "execution_count": 26,
     "metadata": {},
     "output_type": "execute_result"
    }
   ],
   "source": [
    "# every feature ranges between 0 and 1\n",
    "minmax = MinMaxScaler()\n",
    "data_norm = pd.DataFrame(minmax.fit_transform(idel_data), columns=idel_data.columns)\n",
    "\n",
    "\n",
    "# moderate = decrease of IMM and (grip power or walking speed)\n",
    "# serve = decrease of IMM and grip power and walking speed\n",
    "\n",
    "# 18 from serve_sarco differ to definition and 7 from definition differ to serve_sarco\n",
    "# 24/41 samples can be classified as serve by IMM, FuerzaPrension and Marcha\n",
    "serve_sarco = data_norm.loc[data_norm['Sarcopenia']==1] # 42 samples\n",
    "mild_sarco = data_norm.loc[data_norm['Sarcopenia']==0] # 189 samples\n",
    "\n",
    "# serve sarcopenia cases by definition given in excelsheet\n",
    "serve_def = data_norm[((data_norm['Genero']==1) &\n",
    "           (data_norm['Marcha']<=0.423) &\n",
    "           (data_norm['IMM'] <= 0.075)) |\n",
    "         ((data_norm['Genero']==0) &\n",
    "           (data_norm['Marcha'] <= 0.423) &\n",
    "           (data_norm['IMM'] <= 0.23))] # 31 samples\n",
    "\n",
    "# get differences\n",
    "#diff = serve_sarco.merge(serve_def, how='left', indicator=True)\n",
    "#diff[diff['_merge'] != 'both'].shape[0]\n",
    "\n",
    "idel_data.loc[idel_data['Sarcopenia']==1].describe()\n",
    "#idel_data.loc[idel_data['Sarcopenia']==0].describe()"
   ],
   "metadata": {
    "collapsed": false,
    "pycharm": {
     "name": "#%%\n"
    }
   }
  },
  {
   "cell_type": "code",
   "execution_count": 10,
   "outputs": [
    {
     "data": {
      "text/plain": "<Figure size 1440x360 with 1 Axes>",
      "image/png": "[encoded data removed]"
     },
     "metadata": {
      "needs_background": "light"
     },
     "output_type": "display_data"
    }
   ],
   "source": [
    "def draw_plot(data, offset, edge_color, fill_color):\n",
    "    pos = np.arange(data.shape[1])+offset\n",
    "    bp = ax.boxplot(data, positions= pos, widths=0.3, patch_artist=True)\n",
    "    for element in ['boxes', 'whiskers', 'fliers', 'medians', 'caps']:\n",
    "        plt.setp(bp[element], color=edge_color)\n",
    "    for patch in bp['boxes']:\n",
    "        patch.set(facecolor=fill_color)\n",
    "\n",
    "# boxplot of serve and mild sarcopenia cases\n",
    "fig, ax = plt.subplots(figsize=(20,5))\n",
    "draw_plot(serve_sarco, -0.2, \"tomato\", \"white\")\n",
    "draw_plot(mild_sarco, +0.2, \"black\", \"white\")\n",
    "plt.xticks([i for i in range(data_norm.shape[1])], data_norm.columns, rotation=90)\n",
    "plt.savefig(\"boxplot_serve_mild.png\")\n",
    "plt.show()\n",
    "\n"
   ],
   "metadata": {
    "collapsed": false,
    "pycharm": {
     "name": "#%%\n"
    }
   }
  },
  {
   "cell_type": "code",
   "execution_count": 11,
   "outputs": [],
   "source": [
    "X = data_norm.drop(\"Sarcopenia\", axis=1)\n",
    "y = data_norm['Sarcopenia']"
   ],
   "metadata": {
    "collapsed": false,
    "pycharm": {
     "name": "#%%\n"
    }
   }
  },
  {
   "cell_type": "code",
   "execution_count": 17,
   "outputs": [
    {
     "name": "stdout",
     "output_type": "stream",
     "text": [
      "Best 5 features with:\n",
      "chi2: ['TNCM' 'IMM' 'FuerzaPrension' 'Pantorrilla' 'Demencia']\n",
      "F1: ['CorreccionVisual' 'TNCM' 'IMM' 'Pantorrilla' 'Demencia']\n",
      "Intersection:  ['TNCM', 'IMM', 'Pantorrilla', 'Demencia']\n",
      "Best 10 features with:\n",
      "chi2: ['CorreccionVisual' 'TNCM' 'LawtonAR' 'Charlson' 'IMM' 'FuerzaPrension'\n",
      " 'Pantorrilla' 'Demencia' 'Congiciòn' 'Dolor']\n",
      "F1: ['Edad' 'Ocupacion' 'CorreccionVisual' 'TNCM' 'NortonAlto' 'IMM'\n",
      " 'FuerzaPrension' 'Pantorrilla' 'Demencia' 'Congiciòn']\n",
      "Intersection:  ['CorreccionVisual', 'TNCM', 'IMM', 'FuerzaPrension', 'Pantorrilla', 'Demencia', 'Congiciòn']\n"
     ]
    }
   ],
   "source": [
    "# get 5 best features with chi2, f1 score\n",
    "print(\"Best 5 features with:\")\n",
    "X_chi2_5 = SelectKBest(chi2, k=5).fit(X, y)\n",
    "chi2_5_names = X_chi2_5.get_feature_names_out(X.columns)\n",
    "print(\"chi2:\", chi2_5_names)\n",
    "X_f1_5 = SelectKBest(f_classif, k=5).fit(X,y)\n",
    "f1_5_names = X_f1_5.get_feature_names_out(X.columns)\n",
    "print(\"F1:\", f1_5_names)\n",
    "intersec_5 = [i for i in chi2_5_names if i in f1_5_names]\n",
    "print(\"Intersection: \", intersec_5)\n",
    "\n",
    "\n",
    "# get 10 best features with chi2, f1 score\n",
    "print(\"Best 10 features with:\")\n",
    "X_chi2_10 = SelectKBest(chi2, k=10).fit(X, y)\n",
    "chi2_10_names = X_chi2_10.get_feature_names_out(X.columns)\n",
    "print(\"chi2:\", chi2_10_names)\n",
    "X_f1_10 = SelectKBest(f_classif, k=10).fit(X,y)\n",
    "f1_10_names = X_f1_10.get_feature_names_out(X.columns)\n",
    "print(\"F1:\", f1_10_names)\n",
    "intersec_10 = [i for i in chi2_10_names if i in f1_10_names]\n",
    "print(\"Intersection: \", intersec_10)\n",
    "\n",
    "\n",
    "# get 20 best features with chi2, f1 score\n",
    "#print(\"Best 20 features with:\")\n",
    "#X_chi2_20 = SelectKBest(chi2, k=20).fit(X, y)\n",
    "#print(\"chi2:\", X_chi2_20.get_feature_names_out(X.columns))\n",
    "#X_f1_20 = SelectKBest(f_classif, k=20).fit(X,y)\n",
    "#print(\"F1:\", X_f1_20.get_feature_names_out(X.columns))"
   ],
   "metadata": {
    "collapsed": false,
    "pycharm": {
     "name": "#%%\n"
    }
   }
  },
  {
   "cell_type": "code",
   "execution_count": null,
   "outputs": [],
   "source": [],
   "metadata": {
    "collapsed": false,
    "pycharm": {
     "name": "#%%\n"
    }
   }
  }
 ],
 "metadata": {
  "kernelspec": {
   "display_name": "Python 3 (ipykernel)",
   "language": "python",
   "name": "python3"
  },
  "language_info": {
   "codemirror_mode": {
    "name": "ipython",
    "version": 3
   },
   "file_extension": ".py",
   "mimetype": "text/x-python",
   "name": "python",
   "nbconvert_exporter": "python",
   "pygments_lexer": "ipython3",
   "version": "3.8.12"
  }
 },
 "nbformat": 4,
 "nbformat_minor": 5
}